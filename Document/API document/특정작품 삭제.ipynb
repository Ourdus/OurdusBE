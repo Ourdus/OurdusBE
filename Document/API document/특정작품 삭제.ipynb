{
 "cells": [
  {
   "cell_type": "markdown",
   "metadata": {},
   "source": [
    "# API 명세서\n",
    "\n",
    "### 특정작품 삭제\n",
    "\n",
    "Delete /w/product/{product_id}\n",
    "\n",
    "Response  \n",
    "Success{   \n",
    "\n",
    "    \"success\": true,\n",
    "    \"response\": \"작품 삭제 성공\",\n",
    "    \"apiError\": null\n",
    "} \n",
    "}  \n",
    "Fail{  \n",
    "\n",
    "    \"success\": false,\n",
    "    \"response\": null,\n",
    "    \"apiError\": {\n",
    "        \"message\": \"존재하지 않는 작품은 삭제할 수 없습니다.\",\n",
    "        \"status\": 404\n",
    "    }\n",
    "}  "
   ]
  },
  {
   "cell_type": "code",
   "execution_count": null,
   "metadata": {},
   "outputs": [],
   "source": []
  }
 ],
 "metadata": {
  "kernelspec": {
   "display_name": "Python 3",
   "language": "python",
   "name": "python3"
  },
  "language_info": {
   "codemirror_mode": {
    "name": "ipython",
    "version": 3
   },
   "file_extension": ".py",
   "mimetype": "text/x-python",
   "name": "python",
   "nbconvert_exporter": "python",
   "pygments_lexer": "ipython3",
   "version": "3.8.3"
  }
 },
 "nbformat": 4,
 "nbformat_minor": 4
}

{
 "cells": [
  {
   "cell_type": "markdown",
   "metadata": {},
   "source": [
    "# API 명세서\n",
    "\n",
    "\n",
    "### 작품 정보리스트 가져오기\n",
    "\n",
    "Get /w/product?page={페이지넘버}&size={가져올작품갯수}  지금경우는 page=0&size=2 0페이지에 작품 2개 가져옴\n",
    "\n",
    "Response  \n",
    "Success{   \n",
    "      \n",
    "    \"success\": true,\n",
    "    \"response\": [\n",
    "        {\n",
    "            \"id\": 1,\n",
    "            \"name\": \"product1_by_test0\",\n",
    "            \"price\": 0,\n",
    "            \"rate\": 0,\n",
    "            \"review\": 0,\n",
    "            \"hit\": 0,\n",
    "            \"purchase\": 0,\n",
    "            \"categoryId\": 1,\n",
    "            \"categoryName\": \"음료\",\n",
    "            \"authorId\": 1,\n",
    "            \"authorName\": \"test0\",\n",
    "            \"optionNum\": 0\n",
    "        },\n",
    "        {\n",
    "            \"id\": 2,\n",
    "            \"name\": \"product2_by_test1\",\n",
    "            \"price\": 0,\n",
    "            \"rate\": 0,\n",
    "            \"review\": 0,\n",
    "            \"hit\": 0,\n",
    "            \"purchase\": 0,\n",
    "            \"categoryId\": 2,\n",
    "            \"categoryName\": \"디저트\",\n",
    "            \"authorId\": 2,\n",
    "            \"authorName\": \"test1\",\n",
    "            \"optionNum\": 0\n",
    "        }\n",
    "    ],\n",
    "    \"apiError\": null\n",
    "} \n",
    "}  \n",
    "Fail{  \n",
    "\n",
    "    \"success\": false,\n",
    "    \"response\": null,\n",
    "    \"apiError\": {\n",
    "        \"message\": \"Page index must not be less than zero!\",\n",
    "        \"status\": 500\n",
    "    }\n",
    "}  \n"
   ]
  },
  {
   "cell_type": "code",
   "execution_count": null,
   "metadata": {},
   "outputs": [],
   "source": []
  }
 ],
 "metadata": {
  "kernelspec": {
   "display_name": "Python 3",
   "language": "python",
   "name": "python3"
  },
  "language_info": {
   "codemirror_mode": {
    "name": "ipython",
    "version": 3
   },
   "file_extension": ".py",
   "mimetype": "text/x-python",
   "name": "python",
   "nbconvert_exporter": "python",
   "pygments_lexer": "ipython3",
   "version": "3.8.3"
  }
 },
 "nbformat": 4,
 "nbformat_minor": 4
}

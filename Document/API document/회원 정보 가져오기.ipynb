{
 "cells": [
  {
   "cell_type": "markdown",
   "metadata": {},
   "source": [
    "# API 명세서\n",
    "\n",
    "\n",
    "### 회원 정보 가져오기\n",
    "\n",
    "Get /api/user/info\n",
    "\n",
    " Request {{  \n",
    " data:[  \n",
    "{   \n",
    "\n",
    "    \"jwt-auth-token\" : \"eyJ0eXAiOiJKV1QiLCJhbGciOiJIUzI1NiJ9.eyJzI(지금 접속한 유저의 토큰)\"\n",
    "}]  \n",
    "}  \n",
    "Response  \n",
    "Success{   \n",
    "      \n",
    "    \"success\": true,\n",
    "    \"response\": {\n",
    "        \"id\": 1,\n",
    "        \"email\": \"test0@gmail.com\",\n",
    "        \"name\": \"test0\",\n",
    "        \"password\": \"0000\",\n",
    "        \"tel\": \"01011112222\",\n",
    "        \"regDate\": \"2021-02-07T16:14:39.748624\",\n",
    "        \"point\": 0,\n",
    "        \"writerFlag\": false,\n",
    "        \"addressList\": []\n",
    "    },\n",
    "    \"apiError\": null\n",
    "} \n",
    "}  \n",
    "Fail{  \n",
    "\n",
    "    \"success\": false,\n",
    "    \"response\": null,\n",
    "    \"apiError\": {\n",
    "        \"message\":\"Unable to read JSON value: ~~\",\n",
    "        \"status\": 500\n",
    "    }\n",
    "}  \n"
   ]
  },
  {
   "cell_type": "code",
   "execution_count": null,
   "metadata": {},
   "outputs": [],
   "source": []
  }
 ],
 "metadata": {
  "kernelspec": {
   "display_name": "Python 3",
   "language": "python",
   "name": "python3"
  },
  "language_info": {
   "codemirror_mode": {
    "name": "ipython",
    "version": 3
   },
   "file_extension": ".py",
   "mimetype": "text/x-python",
   "name": "python",
   "nbconvert_exporter": "python",
   "pygments_lexer": "ipython3",
   "version": "3.8.3"
  }
 },
 "nbformat": 4,
 "nbformat_minor": 4
}

{
 "cells": [
  {
   "cell_type": "markdown",
   "metadata": {},
   "source": [
    "# API 명세서\n",
    "\n",
    "\n",
    "\n",
    "### 특정카테고리 작품리스트 가져오기\n",
    "\n",
    "Get /w/category/{category_id}\n",
    "\n",
    "Response  \n",
    "Success{   \n",
    "\n",
    "    \"success\": true,\n",
    "    \"response\": [\n",
    "        {\n",
    "            \"id\": 1,\n",
    "            \"name\": \"product1_by_test0\",\n",
    "            \"price\": 0,\n",
    "            \"rate\": 0,\n",
    "            \"review\": 0,\n",
    "            \"hit\": 0,\n",
    "            \"purchase\": 0,\n",
    "            \"categoryId\": 1,\n",
    "            \"categoryName\": \"음료\",\n",
    "            \"authorId\": 1,\n",
    "            \"authorName\": \"test0\",\n",
    "            \"optionNum\": 0\n",
    "        },\n",
    "        {\n",
    "            \"id\": 3,\n",
    "            \"name\": \"product3_by_test1\",\n",
    "            \"price\": 0,\n",
    "            \"rate\": 0,\n",
    "            \"review\": 0,\n",
    "            \"hit\": 0,\n",
    "            \"purchase\": 0,\n",
    "            \"categoryId\": 1,\n",
    "            \"categoryName\": \"음료\",\n",
    "            \"authorId\": 3,\n",
    "            \"authorName\": \"test2\",\n",
    "            \"optionNum\": 0\n",
    "        },,,\n",
    "} \n",
    "}  \n",
    "Fail{  \n",
    "\n",
    "    \"success\": true,\n",
    "    \"response\": [],\n",
    "    \"apiError\": null\n",
    "}  "
   ]
  },
  {
   "cell_type": "code",
   "execution_count": null,
   "metadata": {},
   "outputs": [],
   "source": []
  }
 ],
 "metadata": {
  "kernelspec": {
   "display_name": "Python 3",
   "language": "python",
   "name": "python3"
  },
  "language_info": {
   "codemirror_mode": {
    "name": "ipython",
    "version": 3
   },
   "file_extension": ".py",
   "mimetype": "text/x-python",
   "name": "python",
   "nbconvert_exporter": "python",
   "pygments_lexer": "ipython3",
   "version": "3.8.3"
  }
 },
 "nbformat": 4,
 "nbformat_minor": 4
}

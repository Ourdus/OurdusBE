{
 "cells": [
  {
   "cell_type": "markdown",
   "metadata": {},
   "source": [
    "# API 명세서\n",
    "\n",
    "\n",
    "### 회원비밀번호 찾기 \n",
    "\n",
    "POST /api/user/pw-finding\n",
    "\n",
    " Request {{  \n",
    " \n",
    "\"data\": {    \n",
    "\n",
    "     \"email\":\"test0@gmail.com\",\n",
    "     \"tel\":\"01012345678\"\n",
    "}\n",
    "}]  \n",
    "}  \n",
    "\n",
    "Response{ {  \n",
    " \n",
    "    \"success\": true,\n",
    "    \"response\": \"1111\", #비밀번호\n",
    "    \"apiError\": null\n",
    "}  \n",
    "Fail{  \n",
    "\n",
    "    \"response\": null,\n",
    "    \"apiError\": {\n",
    "        \"message\": ~~~)\",\n",
    "        \"status\": 500\n",
    "    }\n",
    "}  \n"
   ]
  },
  {
   "cell_type": "code",
   "execution_count": null,
   "metadata": {},
   "outputs": [],
   "source": []
  }
 ],
 "metadata": {
  "kernelspec": {
   "display_name": "Python 3",
   "language": "python",
   "name": "python3"
  },
  "language_info": {
   "codemirror_mode": {
    "name": "ipython",
    "version": 3
   },
   "file_extension": ".py",
   "mimetype": "text/x-python",
   "name": "python",
   "nbconvert_exporter": "python",
   "pygments_lexer": "ipython3",
   "version": "3.8.3"
  }
 },
 "nbformat": 4,
 "nbformat_minor": 4
}

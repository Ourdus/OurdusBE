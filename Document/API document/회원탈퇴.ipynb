{
 "cells": [
  {
   "cell_type": "markdown",
   "metadata": {},
   "source": [
    "# API 명세서\n",
    "\n",
    "\n",
    "### 회원 탈퇴\n",
    "\n",
    "Delete /api/user/delete\n",
    "\n",
    " Request {{  \n",
    " data:[  \n",
    "{   \n",
    "\n",
    "    \"jwt-auth-token\" : \"eyJ0eXAiOiJKV1QiLCJhbGciOiJIUzI1NiJ9.eyJzI(지금 접속한 유저의 토큰)\"\n",
    "}]  \n",
    "}  \n",
    "Response  \n",
    "Success{   \n",
    "      \n",
    "    “success”:\"true\",    \n",
    "      \"response\": \"delete success\",  \n",
    "}  \n",
    "Fail{  \n",
    "\n",
    "    \"success\": false,  \n",
    "    \"response\": \"null\",  \n",
    "    \"apiError\":\"~~~~~~~~\"  \n",
    "}  \n",
    "\n"
   ]
  },
  {
   "cell_type": "code",
   "execution_count": null,
   "metadata": {},
   "outputs": [],
   "source": []
  }
 ],
 "metadata": {
  "kernelspec": {
   "display_name": "Python 3",
   "language": "python",
   "name": "python3"
  },
  "language_info": {
   "codemirror_mode": {
    "name": "ipython",
    "version": 3
   },
   "file_extension": ".py",
   "mimetype": "text/x-python",
   "name": "python",
   "nbconvert_exporter": "python",
   "pygments_lexer": "ipython3",
   "version": "3.8.3"
  }
 },
 "nbformat": 4,
 "nbformat_minor": 4
}

{
 "cells": [
  {
   "cell_type": "markdown",
   "metadata": {},
   "source": [
    "# API 명세서\n",
    "\n",
    "\n",
    "### 회원정보 수정\n",
    "\n",
    "POST /api/user/edit\n",
    "\n",
    " Request {{  \n",
    " \n",
    "\"data\": {    \n",
    "\n",
    "            \"jwt-auth-token\" : \"eyJ0eXAiOiJKV1QiLCJhbGciOiJIUzI1NiJ9.eyJzI(지금 접속한 유저의 토큰)\"\n",
    "            \"name\":\"testnew\",\n",
    "            \"tel\":\"01012345678\"\n",
    "}\n",
    "}]  \n",
    "}  \n",
    "\n",
    "Response{ {  \n",
    " \n",
    "    \"success\": true,\n",
    "    \"response\": \"update success\",\n",
    "    \"apiError\": null\n",
    "}  \n",
    "Fail{  \n",
    "\n",
    "    \"success\": false,  \n",
    "    \"response\": \"null\",  \n",
    "    \"apiError\":\"~~~~~~~~\"  \n",
    "}  \n"
   ]
  },
  {
   "cell_type": "code",
   "execution_count": null,
   "metadata": {},
   "outputs": [],
   "source": []
  }
 ],
 "metadata": {
  "kernelspec": {
   "display_name": "Python 3",
   "language": "python",
   "name": "python3"
  },
  "language_info": {
   "codemirror_mode": {
    "name": "ipython",
    "version": 3
   },
   "file_extension": ".py",
   "mimetype": "text/x-python",
   "name": "python",
   "nbconvert_exporter": "python",
   "pygments_lexer": "ipython3",
   "version": "3.8.3"
  }
 },
 "nbformat": 4,
 "nbformat_minor": 4
}

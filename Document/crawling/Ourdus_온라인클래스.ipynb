{
 "cells": [
  {
   "cell_type": "code",
   "execution_count": 4,
   "metadata": {},
   "outputs": [
    {
     "name": "stdout",
     "output_type": "stream",
     "text": [
      "Note: you may need to restart the kernel to use updated packages.\n"
     ]
    },
    {
     "name": "stderr",
     "output_type": "stream",
     "text": [
      "ERROR: Could not find a version that satisfies the requirement request (from versions: none)\n",
      "ERROR: No matching distribution found for request\n"
     ]
    }
   ],
   "source": [
    "pip install request"
   ]
  },
  {
   "cell_type": "code",
   "execution_count": 5,
   "metadata": {},
   "outputs": [
    {
     "name": "stdout",
     "output_type": "stream",
     "text": [
      "Requirement already satisfied: beautifulSoup4 in c:\\users\\ksy\\anaconda3\\lib\\site-packages (4.9.1)\n",
      "Requirement already satisfied: soupsieve>1.2 in c:\\users\\ksy\\anaconda3\\lib\\site-packages (from beautifulSoup4) (2.0.1)\n",
      "Note: you may need to restart the kernel to use updated packages.\n"
     ]
    }
   ],
   "source": [
    "pip install beautifulSoup4"
   ]
  },
  {
   "cell_type": "code",
   "execution_count": 6,
   "metadata": {},
   "outputs": [
    {
     "name": "stdout",
     "output_type": "stream",
     "text": [
      "Requirement already satisfied: selenium in c:\\users\\ksy\\anaconda3\\lib\\site-packages (3.141.0)\n",
      "Requirement already satisfied: urllib3 in c:\\users\\ksy\\anaconda3\\lib\\site-packages (from selenium) (1.25.9)\n",
      "Note: you may need to restart the kernel to use updated packages.\n"
     ]
    }
   ],
   "source": [
    "pip install selenium"
   ]
  },
  {
   "cell_type": "code",
   "execution_count": 7,
   "metadata": {},
   "outputs": [
    {
     "name": "stdout",
     "output_type": "stream",
     "text": [
      "Requirement already satisfied: webdriver-manager in c:\\users\\ksy\\anaconda3\\lib\\site-packages (3.2.2)\n",
      "Requirement already satisfied: configparser in c:\\users\\ksy\\anaconda3\\lib\\site-packages (from webdriver-manager) (5.0.1)\n",
      "Requirement already satisfied: requests in c:\\users\\ksy\\anaconda3\\lib\\site-packages (from webdriver-manager) (2.24.0)\n",
      "Requirement already satisfied: crayons in c:\\users\\ksy\\anaconda3\\lib\\site-packages (from webdriver-manager) (0.4.0)\n",
      "Requirement already satisfied: chardet<4,>=3.0.2 in c:\\users\\ksy\\anaconda3\\lib\\site-packages (from requests->webdriver-manager) (3.0.4)\n",
      "Requirement already satisfied: certifi>=2017.4.17 in c:\\users\\ksy\\anaconda3\\lib\\site-packages (from requests->webdriver-manager) (2020.6.20)\n",
      "Requirement already satisfied: idna<3,>=2.5 in c:\\users\\ksy\\anaconda3\\lib\\site-packages (from requests->webdriver-manager) (2.10)\n",
      "Note: you may need to restart the kernel to use updated packages.Requirement already satisfied: urllib3!=1.25.0,!=1.25.1,<1.26,>=1.21.1 in c:\\users\\ksy\\anaconda3\\lib\\site-packages (from requests->webdriver-manager) (1.25.9)\n",
      "Requirement already satisfied: colorama in c:\\users\\ksy\\anaconda3\\lib\\site-packages (from crayons->webdriver-manager) (0.4.3)\n",
      "\n"
     ]
    }
   ],
   "source": [
    "pip install webdriver-manager"
   ]
  },
  {
   "cell_type": "code",
   "execution_count": 8,
   "metadata": {
    "scrolled": true
   },
   "outputs": [
    {
     "name": "stdout",
     "output_type": "stream",
     "text": [
      "Requirement already satisfied: wordcloud in c:\\users\\ksy\\anaconda3\\lib\\site-packages (1.8.1)\n",
      "Requirement already satisfied: numpy>=1.6.1 in c:\\users\\ksy\\anaconda3\\lib\\site-packages (from wordcloud) (1.18.5)\n",
      "Requirement already satisfied: matplotlib in c:\\users\\ksy\\anaconda3\\lib\\site-packages (from wordcloud) (3.2.2)\n",
      "Requirement already satisfied: pillow in c:\\users\\ksy\\anaconda3\\lib\\site-packages (from wordcloud) (7.2.0)\n",
      "Requirement already satisfied: kiwisolver>=1.0.1 in c:\\users\\ksy\\anaconda3\\lib\\site-packages (from matplotlib->wordcloud) (1.2.0)\n",
      "Requirement already satisfied: pyparsing!=2.0.4,!=2.1.2,!=2.1.6,>=2.0.1 in c:\\users\\ksy\\anaconda3\\lib\\site-packages (from matplotlib->wordcloud) (2.4.7)\n",
      "Requirement already satisfied: cycler>=0.10 in c:\\users\\ksy\\anaconda3\\lib\\site-packages (from matplotlib->wordcloud) (0.10.0)\n",
      "Requirement already satisfied: python-dateutil>=2.1 in c:\\users\\ksy\\anaconda3\\lib\\site-packages (from matplotlib->wordcloud) (2.8.1)\n",
      "Requirement already satisfied: six in c:\\users\\ksy\\anaconda3\\lib\\site-packages (from cycler>=0.10->matplotlib->wordcloud) (1.15.0)\n",
      "Note: you may need to restart the kernel to use updated packages.\n"
     ]
    }
   ],
   "source": [
    "pip install wordcloud"
   ]
  },
  {
   "cell_type": "code",
   "execution_count": 9,
   "metadata": {},
   "outputs": [
    {
     "name": "stdout",
     "output_type": "stream",
     "text": [
      "Requirement already satisfied: matplotlib in c:\\users\\ksy\\anaconda3\\lib\\site-packages (3.2.2)\n",
      "Requirement already satisfied: numpy>=1.11 in c:\\users\\ksy\\anaconda3\\lib\\site-packages (from matplotlib) (1.18.5)\n",
      "Requirement already satisfied: kiwisolver>=1.0.1 in c:\\users\\ksy\\anaconda3\\lib\\site-packages (from matplotlib) (1.2.0)\n",
      "Requirement already satisfied: cycler>=0.10 in c:\\users\\ksy\\anaconda3\\lib\\site-packages (from matplotlib) (0.10.0)\n",
      "Requirement already satisfied: pyparsing!=2.0.4,!=2.1.2,!=2.1.6,>=2.0.1 in c:\\users\\ksy\\anaconda3\\lib\\site-packages (from matplotlib) (2.4.7)\n",
      "Requirement already satisfied: python-dateutil>=2.1 in c:\\users\\ksy\\anaconda3\\lib\\site-packages (from matplotlib) (2.8.1)\n",
      "Requirement already satisfied: six in c:\\users\\ksy\\anaconda3\\lib\\site-packages (from cycler>=0.10->matplotlib) (1.15.0)\n",
      "Note: you may need to restart the kernel to use updated packages.\n"
     ]
    }
   ],
   "source": [
    "pip install matplotlib"
   ]
  },
  {
   "cell_type": "code",
   "execution_count": 2,
   "metadata": {},
   "outputs": [
    {
     "ename": "SessionNotCreatedException",
     "evalue": "Message: session not created: This version of ChromeDriver only supports Chrome version 86\nCurrent browser version is 88.0.4324.104 with binary path C:\\Program Files (x86)\\Google\\Chrome\\Application\\chrome.exe\n",
     "output_type": "error",
     "traceback": [
      "\u001b[1;31m---------------------------------------------------------------------------\u001b[0m",
      "\u001b[1;31mSessionNotCreatedException\u001b[0m                Traceback (most recent call last)",
      "\u001b[1;32m<ipython-input-2-5afc42dbc62d>\u001b[0m in \u001b[0;36m<module>\u001b[1;34m\u001b[0m\n\u001b[0;32m      8\u001b[0m \u001b[1;32mfrom\u001b[0m \u001b[0mselenium\u001b[0m\u001b[1;33m.\u001b[0m\u001b[0mwebdriver\u001b[0m \u001b[1;32mimport\u001b[0m \u001b[0mActionChains\u001b[0m\u001b[1;33m\u001b[0m\u001b[1;33m\u001b[0m\u001b[0m\n\u001b[0;32m      9\u001b[0m \u001b[1;33m\u001b[0m\u001b[0m\n\u001b[1;32m---> 10\u001b[1;33m \u001b[0mdriver\u001b[0m \u001b[1;33m=\u001b[0m \u001b[0mwebdriver\u001b[0m\u001b[1;33m.\u001b[0m\u001b[0mChrome\u001b[0m\u001b[1;33m(\u001b[0m\u001b[1;34m'C:/Users/KSY/Desktop/chromedriver.exe'\u001b[0m\u001b[1;33m)\u001b[0m\u001b[1;33m\u001b[0m\u001b[1;33m\u001b[0m\u001b[0m\n\u001b[0m\u001b[0;32m     11\u001b[0m \u001b[0mdriver\u001b[0m\u001b[1;33m.\u001b[0m\u001b[0mget\u001b[0m\u001b[1;33m(\u001b[0m\u001b[1;34m\"https://www.idus.com/oc\"\u001b[0m\u001b[1;33m)\u001b[0m \u001b[1;31m#tab[0]\u001b[0m\u001b[1;33m\u001b[0m\u001b[1;33m\u001b[0m\u001b[0m\n\u001b[0;32m     12\u001b[0m \u001b[0mdriver\u001b[0m\u001b[1;33m.\u001b[0m\u001b[0mexecute_script\u001b[0m\u001b[1;33m(\u001b[0m\u001b[1;34m'window.open(\"about:blank\", \"_blank\");'\u001b[0m\u001b[1;33m)\u001b[0m \u001b[1;31m#창 1개더 열어놓기 tab[1]\u001b[0m\u001b[1;33m\u001b[0m\u001b[1;33m\u001b[0m\u001b[0m\n",
      "\u001b[1;32m~\\anaconda3\\lib\\site-packages\\selenium\\webdriver\\chrome\\webdriver.py\u001b[0m in \u001b[0;36m__init__\u001b[1;34m(self, executable_path, port, options, service_args, desired_capabilities, service_log_path, chrome_options, keep_alive)\u001b[0m\n\u001b[0;32m     74\u001b[0m \u001b[1;33m\u001b[0m\u001b[0m\n\u001b[0;32m     75\u001b[0m         \u001b[1;32mtry\u001b[0m\u001b[1;33m:\u001b[0m\u001b[1;33m\u001b[0m\u001b[1;33m\u001b[0m\u001b[0m\n\u001b[1;32m---> 76\u001b[1;33m             RemoteWebDriver.__init__(\n\u001b[0m\u001b[0;32m     77\u001b[0m                 \u001b[0mself\u001b[0m\u001b[1;33m,\u001b[0m\u001b[1;33m\u001b[0m\u001b[1;33m\u001b[0m\u001b[0m\n\u001b[0;32m     78\u001b[0m                 command_executor=ChromeRemoteConnection(\n",
      "\u001b[1;32m~\\anaconda3\\lib\\site-packages\\selenium\\webdriver\\remote\\webdriver.py\u001b[0m in \u001b[0;36m__init__\u001b[1;34m(self, command_executor, desired_capabilities, browser_profile, proxy, keep_alive, file_detector, options)\u001b[0m\n\u001b[0;32m    155\u001b[0m             warnings.warn(\"Please use FirefoxOptions to set browser profile\",\n\u001b[0;32m    156\u001b[0m                           DeprecationWarning, stacklevel=2)\n\u001b[1;32m--> 157\u001b[1;33m         \u001b[0mself\u001b[0m\u001b[1;33m.\u001b[0m\u001b[0mstart_session\u001b[0m\u001b[1;33m(\u001b[0m\u001b[0mcapabilities\u001b[0m\u001b[1;33m,\u001b[0m \u001b[0mbrowser_profile\u001b[0m\u001b[1;33m)\u001b[0m\u001b[1;33m\u001b[0m\u001b[1;33m\u001b[0m\u001b[0m\n\u001b[0m\u001b[0;32m    158\u001b[0m         \u001b[0mself\u001b[0m\u001b[1;33m.\u001b[0m\u001b[0m_switch_to\u001b[0m \u001b[1;33m=\u001b[0m \u001b[0mSwitchTo\u001b[0m\u001b[1;33m(\u001b[0m\u001b[0mself\u001b[0m\u001b[1;33m)\u001b[0m\u001b[1;33m\u001b[0m\u001b[1;33m\u001b[0m\u001b[0m\n\u001b[0;32m    159\u001b[0m         \u001b[0mself\u001b[0m\u001b[1;33m.\u001b[0m\u001b[0m_mobile\u001b[0m \u001b[1;33m=\u001b[0m \u001b[0mMobile\u001b[0m\u001b[1;33m(\u001b[0m\u001b[0mself\u001b[0m\u001b[1;33m)\u001b[0m\u001b[1;33m\u001b[0m\u001b[1;33m\u001b[0m\u001b[0m\n",
      "\u001b[1;32m~\\anaconda3\\lib\\site-packages\\selenium\\webdriver\\remote\\webdriver.py\u001b[0m in \u001b[0;36mstart_session\u001b[1;34m(self, capabilities, browser_profile)\u001b[0m\n\u001b[0;32m    250\u001b[0m         parameters = {\"capabilities\": w3c_caps,\n\u001b[0;32m    251\u001b[0m                       \"desiredCapabilities\": capabilities}\n\u001b[1;32m--> 252\u001b[1;33m         \u001b[0mresponse\u001b[0m \u001b[1;33m=\u001b[0m \u001b[0mself\u001b[0m\u001b[1;33m.\u001b[0m\u001b[0mexecute\u001b[0m\u001b[1;33m(\u001b[0m\u001b[0mCommand\u001b[0m\u001b[1;33m.\u001b[0m\u001b[0mNEW_SESSION\u001b[0m\u001b[1;33m,\u001b[0m \u001b[0mparameters\u001b[0m\u001b[1;33m)\u001b[0m\u001b[1;33m\u001b[0m\u001b[1;33m\u001b[0m\u001b[0m\n\u001b[0m\u001b[0;32m    253\u001b[0m         \u001b[1;32mif\u001b[0m \u001b[1;34m'sessionId'\u001b[0m \u001b[1;32mnot\u001b[0m \u001b[1;32min\u001b[0m \u001b[0mresponse\u001b[0m\u001b[1;33m:\u001b[0m\u001b[1;33m\u001b[0m\u001b[1;33m\u001b[0m\u001b[0m\n\u001b[0;32m    254\u001b[0m             \u001b[0mresponse\u001b[0m \u001b[1;33m=\u001b[0m \u001b[0mresponse\u001b[0m\u001b[1;33m[\u001b[0m\u001b[1;34m'value'\u001b[0m\u001b[1;33m]\u001b[0m\u001b[1;33m\u001b[0m\u001b[1;33m\u001b[0m\u001b[0m\n",
      "\u001b[1;32m~\\anaconda3\\lib\\site-packages\\selenium\\webdriver\\remote\\webdriver.py\u001b[0m in \u001b[0;36mexecute\u001b[1;34m(self, driver_command, params)\u001b[0m\n\u001b[0;32m    319\u001b[0m         \u001b[0mresponse\u001b[0m \u001b[1;33m=\u001b[0m \u001b[0mself\u001b[0m\u001b[1;33m.\u001b[0m\u001b[0mcommand_executor\u001b[0m\u001b[1;33m.\u001b[0m\u001b[0mexecute\u001b[0m\u001b[1;33m(\u001b[0m\u001b[0mdriver_command\u001b[0m\u001b[1;33m,\u001b[0m \u001b[0mparams\u001b[0m\u001b[1;33m)\u001b[0m\u001b[1;33m\u001b[0m\u001b[1;33m\u001b[0m\u001b[0m\n\u001b[0;32m    320\u001b[0m         \u001b[1;32mif\u001b[0m \u001b[0mresponse\u001b[0m\u001b[1;33m:\u001b[0m\u001b[1;33m\u001b[0m\u001b[1;33m\u001b[0m\u001b[0m\n\u001b[1;32m--> 321\u001b[1;33m             \u001b[0mself\u001b[0m\u001b[1;33m.\u001b[0m\u001b[0merror_handler\u001b[0m\u001b[1;33m.\u001b[0m\u001b[0mcheck_response\u001b[0m\u001b[1;33m(\u001b[0m\u001b[0mresponse\u001b[0m\u001b[1;33m)\u001b[0m\u001b[1;33m\u001b[0m\u001b[1;33m\u001b[0m\u001b[0m\n\u001b[0m\u001b[0;32m    322\u001b[0m             response['value'] = self._unwrap_value(\n\u001b[0;32m    323\u001b[0m                 response.get('value', None))\n",
      "\u001b[1;32m~\\anaconda3\\lib\\site-packages\\selenium\\webdriver\\remote\\errorhandler.py\u001b[0m in \u001b[0;36mcheck_response\u001b[1;34m(self, response)\u001b[0m\n\u001b[0;32m    240\u001b[0m                 \u001b[0malert_text\u001b[0m \u001b[1;33m=\u001b[0m \u001b[0mvalue\u001b[0m\u001b[1;33m[\u001b[0m\u001b[1;34m'alert'\u001b[0m\u001b[1;33m]\u001b[0m\u001b[1;33m.\u001b[0m\u001b[0mget\u001b[0m\u001b[1;33m(\u001b[0m\u001b[1;34m'text'\u001b[0m\u001b[1;33m)\u001b[0m\u001b[1;33m\u001b[0m\u001b[1;33m\u001b[0m\u001b[0m\n\u001b[0;32m    241\u001b[0m             \u001b[1;32mraise\u001b[0m \u001b[0mexception_class\u001b[0m\u001b[1;33m(\u001b[0m\u001b[0mmessage\u001b[0m\u001b[1;33m,\u001b[0m \u001b[0mscreen\u001b[0m\u001b[1;33m,\u001b[0m \u001b[0mstacktrace\u001b[0m\u001b[1;33m,\u001b[0m \u001b[0malert_text\u001b[0m\u001b[1;33m)\u001b[0m\u001b[1;33m\u001b[0m\u001b[1;33m\u001b[0m\u001b[0m\n\u001b[1;32m--> 242\u001b[1;33m         \u001b[1;32mraise\u001b[0m \u001b[0mexception_class\u001b[0m\u001b[1;33m(\u001b[0m\u001b[0mmessage\u001b[0m\u001b[1;33m,\u001b[0m \u001b[0mscreen\u001b[0m\u001b[1;33m,\u001b[0m \u001b[0mstacktrace\u001b[0m\u001b[1;33m)\u001b[0m\u001b[1;33m\u001b[0m\u001b[1;33m\u001b[0m\u001b[0m\n\u001b[0m\u001b[0;32m    243\u001b[0m \u001b[1;33m\u001b[0m\u001b[0m\n\u001b[0;32m    244\u001b[0m     \u001b[1;32mdef\u001b[0m \u001b[0m_value_or_default\u001b[0m\u001b[1;33m(\u001b[0m\u001b[0mself\u001b[0m\u001b[1;33m,\u001b[0m \u001b[0mobj\u001b[0m\u001b[1;33m,\u001b[0m \u001b[0mkey\u001b[0m\u001b[1;33m,\u001b[0m \u001b[0mdefault\u001b[0m\u001b[1;33m)\u001b[0m\u001b[1;33m:\u001b[0m\u001b[1;33m\u001b[0m\u001b[1;33m\u001b[0m\u001b[0m\n",
      "\u001b[1;31mSessionNotCreatedException\u001b[0m: Message: session not created: This version of ChromeDriver only supports Chrome version 86\nCurrent browser version is 88.0.4324.104 with binary path C:\\Program Files (x86)\\Google\\Chrome\\Application\\chrome.exe\n"
     ]
    }
   ],
   "source": [
    "import time\n",
    "import re\n",
    "import sys\n",
    "from selenium import webdriver\n",
    "from bs4 import BeautifulSoup\n",
    "import csv\n",
    "from urllib.request import urlopen\n",
    "from selenium.webdriver import ActionChains\n",
    "\n",
    "driver = webdriver.Chrome('C:/Users/KSY/Desktop/chromedriver.exe')\n",
    "driver.get(\"https://www.idus.com/oc\") #tab[0]\n",
    "driver.execute_script('window.open(\"about:blank\", \"_blank\");') #창 1개더 열어놓기 tab[1]\n",
    "tabs = driver.window_handles\n",
    "time.sleep(3)\n",
    "\n",
    "def scroll():\n",
    "    last_height = driver.execute_script(\"return document.body.scrollHeight\")\n",
    "    \n",
    "    while True:\n",
    "        # 끝까지 스크롤 다운\n",
    "        driver.execute_script(\"window.scrollTo(0, document.body.scrollHeight);\")\n",
    "\n",
    "        # 1초 대기\n",
    "        time.sleep(1)\n",
    "\n",
    "        # 스크롤 다운 후 스크롤 높이 다시 가져옴\n",
    "        new_height = driver.execute_script(\"return document.body.scrollHeight\")\n",
    "        if new_height == last_height:\n",
    "            break\n",
    "        last_height = new_height\n",
    "\n",
    "with open (\"ourdus_class.csv\", 'w', encoding='utf-8',newline=\"\") as fileWrite:\n",
    "    myWriter = csv.writer(fileWrite)\n",
    "    time.sleep(3)\n",
    "    driver.switch_to_window(tabs[0])\n",
    "    scroll()\n",
    "    html = driver.page_source\n",
    "    soup = BeautifulSoup(html, 'lxml')\n",
    "    \n",
    "    myWriter.writerow([\"카테고리\", \"이름\",\"배너 사진 URL\", \"할인율\", \"가격/월\",'전체가격','상세페이지 URL','수강시작일','수강기간','난이도','준비물','클래스소개','클래스댓글'])\n",
    "       \n",
    "    classlist = soup.findAll('li',{'class':'ui_grid__item'}) #모든 클래스 목록\n",
    "    count = 0\n",
    "    \n",
    "    data=[] \n",
    "    \n",
    "    #클래스 한개씩 작업\n",
    "    for row in classlist:   \n",
    "        #img_URL얻으려고 전처리과정\n",
    "        img = row.find('div',{'class':'thumb-img'})\n",
    "        img = img[\"style\"]\n",
    "        start=img.find('\\\"')\n",
    "        end = img.find('\\\"',start+1)\n",
    "        img_URL = img[start+1:end]\n",
    "\n",
    "        #img_URL로 로컬 저장소에 사진 저장\n",
    "        with urlopen(img_URL) as f:\n",
    "            count +=1\n",
    "            with open('./Ourdus/class_img/'+ str(count)+ '.jpg',\"wb\") as h:\n",
    "                img=f.read()\n",
    "                h.write(img)\n",
    "        \n",
    "        \n",
    "        label = row.find('div',{'class':'label'}).text #카테고리\n",
    "        name = row.find('div',{'class':'class-name'}).text #이름\n",
    "        \n",
    "        # 할인률 없는것들도 있어서 try~catch 사용\n",
    "        try:\n",
    "            discount = row.find('span',{'class':'sale-rate'}).text.replace('%','')\n",
    "            discount=int(discount)\n",
    "        except:\n",
    "            discount=0\n",
    "            \n",
    "        #가격 전처리 (/월 가격임)\n",
    "        price = row.find('span',{'class':'price'}).text.replace('\\n','').replace(',','')\n",
    "        price = int(price)\n",
    "        \n",
    "        data.append([label,name,img_URL,discount,price])\n",
    "         \n",
    "        # 현재 클래스의 상세 페이지 URL\n",
    "        info_URL = row.find({'a':'data-v-27ea337a'})\n",
    "        info_URL = info_URL[\"href\"]\n",
    "        info_URL = \"https://www.idus.com/\" + str(info_URL)\n",
    "        \n",
    "        \n",
    "        driver.switch_to_window(tabs[1]) #두번째 탭으로 이동\n",
    "        driver.get(info_URL)\n",
    "        html = driver.page_source\n",
    "        soup = BeautifulSoup(html, 'lxml')\n",
    "\n",
    "        \n",
    "        basic_info = soup.findAll({'dd':'data-v-af0d8610'}) #수강시작일 + 수강기간 + 난이도 + 준비물 다 긁어옴\n",
    "        info=[]\n",
    "        for i in basic_info: #한개씩 저장\n",
    "            info.append(i.text)\n",
    "        \n",
    "        start_date=info[0] #수강시작일\n",
    "        duration = info[1] #수강기간\n",
    "        difficulty=info[2] #난이도\n",
    "        material = info[3] #준비물\n",
    "        \n",
    "        #총 가격 전처리 (/월 말고)\n",
    "        total_price = soup.find('p',{'class':'option-text price'}).text\n",
    "        total_price=total_price.replace('원','').replace(',','')\n",
    "        total_price=int(total_price)\n",
    "        \n",
    "        #클래스 정보 소개\n",
    "        article = soup.findAll('p',{'class':'article_block__para bot_spacing'})\n",
    "        article_info=[]\n",
    "        for i in article:\n",
    "            article_info.append(i.text)\n",
    "        \n",
    "        #클래스 댓글\n",
    "        comment = soup.findAll('div',{'class':'area-txt'})\n",
    "        comment_info=[]\n",
    "        for i in comment:\n",
    "            try:\n",
    "                user_name=i.find({'span':'data-v-698f8bea'}).text\n",
    "                user_comment=i.find('p',{'class':'txt'}).text\n",
    "                comment_info.append([user_name,user_comment])   # [작성자 이름, 코멘트 내용] 이 한묶음\n",
    "            except:\n",
    "                continue\n",
    "\n",
    "        tmp = data[count-1]+[total_price,info_URL,start_date,duration,difficulty,material,article_info,comment_info]\n",
    "        \n",
    "        myWriter.writerow(tmp)\n",
    "        print(tmp)\n",
    "        driver.switch_to_window(tabs[0])\n",
    "    \n",
    " "
   ]
  },
  {
   "cell_type": "code",
   "execution_count": 32,
   "metadata": {},
   "outputs": [
    {
     "name": "stderr",
     "output_type": "stream",
     "text": [
      "<ipython-input-32-ef7a2cd331d4>:15: DeprecationWarning: use driver.switch_to.window instead\n",
      "  driver.switch_to_window(tabs[0])\n"
     ]
    },
    {
     "name": "stdout",
     "output_type": "stream",
     "text": [
      "https://www.idus.com//oc/class/140\n"
     ]
    },
    {
     "ename": "IndexError",
     "evalue": "list index out of range",
     "output_type": "error",
     "traceback": [
      "\u001b[1;31m---------------------------------------------------------------------------\u001b[0m",
      "\u001b[1;31mIndexError\u001b[0m                                Traceback (most recent call last)",
      "\u001b[1;32m<ipython-input-32-ef7a2cd331d4>\u001b[0m in \u001b[0;36m<module>\u001b[1;34m\u001b[0m\n\u001b[0;32m     27\u001b[0m         \u001b[0minfo_URL\u001b[0m \u001b[1;33m=\u001b[0m \u001b[1;34m\"https://www.idus.com/\"\u001b[0m \u001b[1;33m+\u001b[0m \u001b[0mstr\u001b[0m\u001b[1;33m(\u001b[0m\u001b[0minfo_URL\u001b[0m\u001b[1;33m)\u001b[0m\u001b[1;33m\u001b[0m\u001b[1;33m\u001b[0m\u001b[0m\n\u001b[0;32m     28\u001b[0m         \u001b[0mprint\u001b[0m\u001b[1;33m(\u001b[0m\u001b[0minfo_URL\u001b[0m\u001b[1;33m)\u001b[0m\u001b[1;33m\u001b[0m\u001b[1;33m\u001b[0m\u001b[0m\n\u001b[1;32m---> 29\u001b[1;33m         \u001b[0mdriver\u001b[0m\u001b[1;33m.\u001b[0m\u001b[0mswitch_to_window\u001b[0m\u001b[1;33m(\u001b[0m\u001b[0mtabs\u001b[0m\u001b[1;33m[\u001b[0m\u001b[1;36m1\u001b[0m\u001b[1;33m]\u001b[0m\u001b[1;33m)\u001b[0m\u001b[1;33m\u001b[0m\u001b[1;33m\u001b[0m\u001b[0m\n\u001b[0m\u001b[0;32m     30\u001b[0m         \u001b[0mdriver\u001b[0m\u001b[1;33m.\u001b[0m\u001b[0mget\u001b[0m\u001b[1;33m(\u001b[0m\u001b[0minfo_URL\u001b[0m\u001b[1;33m)\u001b[0m\u001b[1;33m\u001b[0m\u001b[1;33m\u001b[0m\u001b[0m\n\u001b[0;32m     31\u001b[0m         \u001b[0mhtml\u001b[0m \u001b[1;33m=\u001b[0m \u001b[0mdriver\u001b[0m\u001b[1;33m.\u001b[0m\u001b[0mpage_source\u001b[0m\u001b[1;33m\u001b[0m\u001b[1;33m\u001b[0m\u001b[0m\n",
      "\u001b[1;31mIndexError\u001b[0m: list index out of range"
     ]
    }
   ],
   "source": [
    "import time\n",
    "import re\n",
    "import sys\n",
    "from selenium import webdriver\n",
    "from bs4 import BeautifulSoup\n",
    "import csv\n",
    "from urllib.request import urlopen\n",
    "from selenium.webdriver import ActionChains\n",
    "\n",
    "driver = webdriver.Chrome('C:/Users/KSY/Desktop/chromedriver.exe')\n",
    "\n",
    "\n",
    " \n",
    "tabs = driver.window_handles\n",
    "driver.switch_to_window(tabs[0])\n",
    "driver.get(\"https://www.idus.com/oc\")\n",
    "\n",
    "time.sleep(3)\n",
    "\n",
    "html = driver.page_source\n",
    "soup = BeautifulSoup(html, 'lxml')\n",
    "classlist = soup.findAll('li',{'class':'ui_grid__item'})\n",
    "\n",
    "for row in classlist:\n",
    "        info_URL = row.find({'a':'data-v-27ea337a'})\n",
    "        info_URL = info_URL[\"href\"]\n",
    "        info_URL = \"https://www.idus.com/\" + str(info_URL)\n",
    "        print(info_URL)\n",
    "        driver.switch_to_window(tabs[1])\n",
    "        driver.get(info_URL)\n",
    "        html = driver.page_source\n",
    "        soup = BeautifulSoup(html, 'lxml')\n",
    "\n",
    "        basic_info = soup.findAll({'dd':'data-v-af0d8610'})\n",
    "        info=[]\n",
    "        for i in basic_info:\n",
    "            info.append(i.text)\n",
    "        \n",
    "        print(info)\n",
    "        start_date=info[0]\n",
    "        duration = info[1]\n",
    "        difficulty=info[2]\n",
    "        material = info[3]\n",
    "        total_price = soup.find('p',{'class':'option-text price'}).text\n",
    "        total_price=total_price.replace('원','')\n",
    "        total_price=int(total_price)\n",
    "        print(total_price)\n",
    "        article = soup.findAll('p',{'class':'article_block__para bot_spacing'})\n",
    "        article_info=[]\n",
    "        for i in article:\n",
    "            article_info.append(i.text)\n",
    "        print(article_info)\n",
    "        \n",
    "        comment = soup.findAll('div',{'class':'area-txt'})\n",
    "        comment_info=[]\n",
    "        for i in comment:\n",
    "            try:\n",
    "                user_name=i.find({'span':'data-v-698f8bea'}).text\n",
    "                user_comment=i.find('p',{'class':'txt'}).text\n",
    "                comment_info.append([user_name,user_comment])\n",
    "            except:\n",
    "                continue\n",
    "        print(comment_info)\n",
    "            \n",
    "        \n",
    "\n"
   ]
  },
  {
   "cell_type": "code",
   "execution_count": 17,
   "metadata": {},
   "outputs": [
    {
     "name": "stderr",
     "output_type": "stream",
     "text": [
      "<ipython-input-17-501ef276a8ed>:72: DeprecationWarning: use driver.switch_to.window instead\n",
      "  driver.switch_to_window(tabs[1]) #두번째 탭으로 이동\n"
     ]
    },
    {
     "name": "stdout",
     "output_type": "stream",
     "text": [
      "[1, 1, 1, '언제나 어디서나 함께, 나만의 양모 고양이 니들펠트 클래스', 159000, '180일', '쉬움', '신청 즉시', '구매가능', 0, 0, '459', 0, 'https://image.idus.com/image/files/7d992ccb52d142618ca885d0c435b5d2_720.jpg', 1, 'blob:https://www.idus.com/befc3c1d-56a9-4be5-a8ae-064c4b4c9c60', '안녕하세요~ \\n고양이 만드는 고양이 집사, \\n숨숨펠트입니다!\\n\\n아이디어스 클래스에서 \\n만나 뵙게 되어 영광입니다.\\n\\n하루 종일 보고 또 봐도 보고 싶은 나의 고양이. \\n학교에서도 직장에서도 어디서든 \\n함께 하고 싶은 마음이 굴뚝같지 않나요?\\n\\n키링과 액자 제작으로 \\n어디서든 함께 할 수 있도록 \\n도와드릴게요.']\n",
      "[2, 1, 2, '손쉽게 꼼지락 꼼지락, 재봉틀 입문하기', 119000, '180일', '쉬움', '3월 중순', '구매가능', 0, 0, '504', 0, 'https://image.idus.com/image/files/f89fddb344ea4f518566e50a1ff4b166_720.jpg', 2, 'blob:https://www.idus.com/48bf04e6-93ef-4100-923a-4855ecb43391', '📢 알려드려요!\\n얼리버드 기간엔 가장 할인된 금액으로 구매 가능합니다.\\n\\n✔️ 얼리버드 기간 : 3월 12일(금) 오후 6시 마감\\n✔️ 수업영상 오픈 : 3월 12일(금) 오후 6시\\n✔️ 준비물은 3월 15일(월)부터 출고됩니다.\\n\\n📢 수요조사 쿠폰은 수강권과 준비물을 함께 구매할 때 사용할 수 있습니다. 아이폰 유저는 애플 정책으로 인해 앱이 아닌 웹에서 사용가능한 점을 꼭 참고해주세요!\\n\\n안녕하세요, 인디점입니다.\\n재봉틀에 관심은 있지만\\n어려울 거란 생각에 시작을 못했나요?\\n아니면 재봉틀의 바늘이 무서운가요?😂\\n\\n항상 모든 것은 시작이 어려워요.\\n하지만 용기를 갖고 시작하면 \\n어려워 보였던 일들이 어느 순간\\n쉽게 해낼 수 있는 일들이 너무나 많아요!\\n👏👏👏']\n",
      "[3, 2, 3, '내 손 안의 바다, 바다를 닮은 레진 소품', 109000, '180일', '쉬움', '3월 중순', '구매가능', 0, 0, '690', 0, 'https://image.idus.com/image/files/b035e738a1b540a0b90f729e481ec075_720.jpg', 3, 'blob:https://www.idus.com/11f5db34-8927-4828-a71d-d2d7df07e781', '📢 알려드려요!\\n얼리버드 기간엔 가장 할인된 금액으로 구매 가능합니다.\\n\\n✔️ 얼리버드 기간 : 3월 16일(화) 오후 6시 마감\\n✔️ 수업영상 오픈 : 3월 16일(화) 오후 6시\\n✔️ 준비물은 3월 17일(수)부터 출고됩니다.\\n\\n📢 수요조사 쿠폰은 수강권과 준비물을 함께 구매할 때 사용할 수 있습니다. 아이폰 유저는 애플 정책으로 인해 앱이 아닌 웹에서 사용가능한 점을 꼭 참고해주세요!\\n\\n\\n안녕하세요 :-) \\n레진을 이용한 유니크한 오브제를 만드는\\n<님프의 장난>입니다.\\n\\n저는 바다와 환상을 주제로 작업하는 \\n아티스트로, 주로 페인팅 작업을 해왔는데요. \\n바다를 표현할 수 있는 또 다른 방법을 \\n찾던 중 레진의 매력에 풍덩 빠졌습니다.']\n",
      "[4, 3, 4, '눈과 입 모두 즐거운, 알록달록 아이싱쿠키', 109000, '180일', '보통', '3월 초', '구매가능', 0, 0, '661', 0, 'https://image.idus.com/image/files/f45567363fda40dba3ba6cc1b803d2dc_720.jpg', 4, 'blob:https://www.idus.com/8ac9d0f6-606d-466d-8010-bb523dd4a86b', '📢 알려드려요!\\n얼리버드 기간엔 가장 할인된 금액으로 구매 가능합니다.\\n\\n✔️ 얼리버드 기간 : 3월 8일(월) 오후 6시 마감\\n✔️ 수업영상 오픈 : 3월 8일(월) 오후 6시\\n✔️ 준비물은 3월 9일(화)부터 출고됩니다.\\n\\n📢 수요조사 쿠폰은 수강권과 준비물을 함께 구매할 때 사용할 수 있습니다. 아이폰 유저는 애플 정책으로 인해 앱이 아닌 웹에서 사용가능한 점을 꼭 참고해주세요!\\n\\n안녕하세요 SNS에서 귀엽고 특별한\\n아이싱쿠키 영상을 만드는\\n크리에이터 랄라시간입니다😊']\n",
      "[5, 1, 5, '나에게 꼭 맞는 뷔스티에 원피스 만들기', 159000, '180일', '보통', '신청 즉시', '구매가능', 0, 0, '529', 0, 'https://image.idus.com/image/files/d8dfa6ca95f845fdb1587d77e8e491b2_720.jpg', 5, 'blob:https://www.idus.com/fd2ccbe1-9928-458a-9c6e-bab5d22a38e6', '안녕하세요.\\n여성 의류를 제작하는 퀄리온(Quallion) 작가입니다!\\n\\n재봉틀은 어느 정도 손에 익었는데\\n옷을 만들려고 하니 엄두가 나지 않았던 분,\\n나름대로 옷을 만들어봤으나\\n태가 나지 않아 실패했던 분들 계신가요?']\n",
      "[6, 4, 6, '따뜻함을 주는 패턴 위빙 소품 만들기', 129000, '180일', '쉬움', '3월 초', '구매가능', 0, 0, '831', 0, 'https://image.idus.com/image/files/6520168f241a46c7bd6cec3195dad760_720.jpg', 6, 'blob:https://www.idus.com/8e2e6783-05c7-4b3d-aefa-fcf1f79b7e5a', '📢 알려드려요!\\n얼리버드 기간엔 가장 할인된 금액으로 구매 가능합니다.\\n\\n✔️ 얼리버드 기간 : 3월 2일(화) 오후 6시 마감\\n✔️ 수업영상 오픈 : 3월 2일(화) 오후 6시\\n✔️ 준비물은 3월 3일(수)부터 출고됩니다.\\n\\n📢 수요조사 쿠폰은 수강권과 준비물을 함께 구매할 때 사용할 수 있습니다. 아이폰 유저는 애플 정책으로 인해 앱이 아닌 웹에서 사용가능한 점을 꼭 참고해주세요!\\n\\n\\n안녕하세요😊\\n한 올 한 올 실의 따스함을 엮어\\n나만의 소품 만드는 앤드앤드라이프입니다.\\n\\n이번 클래스에서는\\n위빙을 조금 더 다양하게 즐겨 볼 수 있도록\\n다양한 기법과 포인트를 줄 수 있는\\n여러 가지 패턴을 배워볼 거예요☺']\n",
      "[7, 4, 7, '선물하기 좋은 마크라메 매듭 팔찌, 반지 만들기', 43000, '180일', '쉬움', '신청 즉시', '구매가능', 0, 0, '682', 0, 'https://image.idus.com/image/files/6b5e7439b42a4bba9981bdcc97ebbc17_720.jpg', 7, 'blob:https://www.idus.com/f27e613b-2e2f-478d-9df7-4d706117a905', \"안녕하세요 핸드메이드를 꿈꾸는\\n집순이, 집돌이를 위한 브랜드\\n'디어드리머'를 운영하고 있는\\n쌍둥이 자매 수둥이입니다👭\"]\n",
      "[8, 5, 8, '오일파스텔로 구워내는 새콤달콤한 디저트 그림', 119000, '180일', '쉬움', '신청 즉시', '구매가능', 0, 0, '1,266', 0, 'https://image.idus.com/image/files/bb6bd94dcd234f43a47830b6c70f36bd_720.jpg', 8, 'blob:https://www.idus.com/adf3a89e-ddb5-47ed-9675-34588df56a52', '🐇\\n안녕하세요.\\n오일파스텔로 새콤달콤한\\n그림을 그리는 크레용토끼입니다.\\n\\n그림 그리는 것이 \\n어렵다고만 느끼셨나요?\\n특히, 색칠이 어려우셨다구요?\\n\\n하지만 이번 클래스를 통해 \\n여러분도 예쁜 색조합으로\\n멋지게 그려낼 수 있다는 것을\\n알게 되실 거예요.']\n",
      "[9, 6, 9, '선명한 색감과 꾸덕한 질감, 유화로 그리는 풍경화', 169000, '180일', '쉬움', '신청 즉시', '구매가능', 0, 0, '1,498', 0, 'https://image.idus.com/image/files/2589809647b0487c85de8b208674c6d1_720.jpg', 9, 'blob:https://www.idus.com/bd79b461-19c0-4df6-bedd-922fcb6c101c', '📢 해당 클래스는 블랙프라이데이 무제한 수강권으로 2/28까지만 수강 가능합니다.\\n3/2부터 시작되는 구독서비스 무제한 수강권으로는 수강이 불가한 점 참고해 주세요.\\n\\n안녕하세요 베오입니다!\\n유화로 그리는 명화 그림 클래스를 소개할게요. \\n이 클래스에서는 유화 기초 기법 3가지와\\n예쁜 색 조합, 그리고 기법을 활용한\\n풍경화 그리기를 배울 거예요!']\n",
      "[10, 1, 10, '보태니컬 펀치니들과 함께하는 홈 인테리어', 49000, '180일', '쉬움', '3월 중순', '구매가능', 0, 0, '546', 0, 'https://image.idus.com/image/files/5870a15968034cc78da9536c8a1c5851_720.jpg', 10, 'blob:https://www.idus.com/b73e4e5f-57cc-49bc-8834-b42e01893860', '📢 알려드려요!\\n얼리버드 기간엔 가장 할인된 금액으로 구매 가능합니다.\\n\\n✔️ 얼리버드 기간 : 3월 17일 오후 6시 마감\\n✔️ 수업영상 오픈 : 3월 17일 오후 6시\\n✔️ 준비물은 3월 18일부터 출고됩니다.\\n\\n안녕하세요 : )\\n\\n작지만 따뜻한 위로가 될 수 있는 작업실을 꿈꿉니다.\\n힐링을 나눠요,\\n\\n스튜디오 실로.온 입니다.']\n",
      "[11, 3, 11, '눈과 입이 만족스러운 한식 디저트의 매력', 59000, '180일', '쉬움', '신청 즉시', '구매가능', 0, 0, '987', 0, 'https://image.idus.com/image/files/2621ea17813c4f568e10dd91b64b0025_720.jpg', 11, 'blob:https://www.idus.com/17753dbf-3c75-4181-8314-d81969dc1b1f', '안녕하세요.\\n한식 디저트를 만드는 크리에이터, \\n나옹입니다!\\n\\n밀가루를 사용해서 만드는 \\n한식 디저트 원데이 클래스를 \\n여러분께 소개할게요.\\n\\n이 클래스에서는 \\n뻔한 모양의 한식 디저트가 아닌,\\n예쁘고 다양한 모양을 가진 \\n한식 디저트를 만들어보려고 해요.']\n",
      "[12, 6, 12, '손끝으로 만드는 부드럽고 강렬한 세상', 139000, '180일', '쉬움', '신청 즉시', '구매가능', 0, 0, '1,404', 0, 'https://image.idus.com/image/files/794e1057bcfc4b6185d858b1f71eaa09_720.jpg', 12, 'blob:https://www.idus.com/2a408570-248e-42fc-b179-24631f7c98cc', '안녕하세요!\\n그림을 그리는 작가, 요나요입니다😊\\n\\n그림 그릴 때 필요한 재료는 무엇일까요?\\n붓? 연필? 지우개?\\n\\n이번 클래스에서는 \\n손가락, 나이프, 숟가락을 이용해서\\n스케치 없이 멋있는 아트웍을 \\n만들어볼 거예요!']\n",
      "[13, 7, 13, '여행의 즐거운 기억과 함께 하는, 페이퍼아트 집 만들기', 119000, '180일', '쉬움', '신청 즉시', '구매가능', 0, 0, '810', 0, 'https://image.idus.com/image/files/5f5103779b744d349aab1e5907c5c3de_720.jpg', 13, 'blob:https://www.idus.com/8ad3ee30-f392-42c4-8a47-ee3b4f4aed10', '안녕하세요.\\n종이로 디자인 작업을 하는 시오입니다.\\n\\n여행을 떠나 낯선 길거리를 거닐며\\n눈에 담아온 건물들은 종이로 재현할 때\\n가장 즐거운 소재 중 하나입니다.👍']\n",
      "[14, 8, 14, '몸에 꼭 맞는 하운드 투스 체크 뜨개 가디건', 199000, '180일', '보통', '신청 즉시', '구매가능', 0, 0, '787', 0, 'https://image.idus.com/image/files/ba0dc21e13ea4c0689a93ca802891331_720.jpg', 14, 'blob:https://www.idus.com/50b0ab38-8523-4387-ab11-97b9ab052c1e', '📢 해당 클래스는 블랙프라이데이 무제한 수강권으로 2/28까지만 수강 가능합니다.\\n3/2부터 시작되는 구독서비스 무제한 수강권으로는 수강이 불가한 점 참고해 주세요.\\n\\n📢 수강권을 구매하신 분들께 도안을 메일로 보내드립니다.\\n도안 받아보실 이메일 주소를 작가 메시지로 알려주세요. (도안이 발송된 이후 수강권 환불은 불가합니다.)\\n\\n📢 안녕하세요. 오늘니트의 이오늘입니다.\\n더 많은 내용을 담고 싶어, 계속 수정하고 재촬영을 하다 보니\\n영상 제작 기간이 길어져 클래스 영상을 순차적으로 오픈하게 되었습니다.\\n수강생님의 양해를 부탁드립니다.\\n\\n죄송한 마음을 담아 카디건을 완성하신 분들께\\n아직 공개되지 않은 새로운 배색 스틱 카디건의 도안을 보내드릴게요.\\n영상 공개가 늦어져서 정말 죄송합니다.\\n\\n※ 완성작 사진과 메일 주소를 작가 메시지로 보내주시면, 배색 스틱 카디건 도안을 발송해 드립니다.\\n※ 영상 공개일\\n· 3~4장 : 3/5(금)\\n· 5~8장 : 3/12(금)\\n· 9장 : 3/15(월)\\n\\n\\n😊\\n안녕하세요,\\n뜨개 옷을 디자인하고 도안을 만드는\\n핸드 니트 디자이너 이오늘입니다.\\n\\n이번에 진행하게 된 클래스는\\n스틱으로 만드는, \\n탑다운 하운드 투스 체크 카디건이에요.\\n\\n원통으로 뜬 후, \\n가위로 편물을 잘라\\n내 몸에 꼭 맞는 가디건으로 만들 거예요.']\n",
      "[15, 9, 15, \"‘색알못'도 차근차근! 쉽게 따라하는 퍼스널 컬러\", 149000, '180일', '쉬움', '신청 즉시', '구매가능', 0, 0, '1,686', 0, 'https://image.idus.com/image/files/90f06bba72a543e3b184001247ffc1a9_720.jpg', 15, 'blob:https://www.idus.com/b13cfa11-537f-4769-8e8f-07bd100821bc', \"안녕하세요.\\nNadaum의 컬러리스트, 작가 '시에나'입니다.\\n\\n퍼스널컬러 진단을 받은 후에도\\n색을 구분하기 어려워 막막하셨던 적 있으셨나요?\\n기존의 퍼스널 컬러 컨설팅은 '진단 과정'에 집중되어 있어요.\\n이제는 좀 더 확신을 가지고 나의 컬러를 스스로 찾고 표현해볼까요?\"]\n",
      "[16, 10, 16, '만년필 드로잉, 퇴근 후 즐기는 그림 한 잔!', 79000, '180일', '쉬움', '신청 즉시', '구매가능', 0, 0, '764', 0, 'https://image.idus.com/image/files/cce84d3289d340748624d5e3dd4d672c_720.jpg', 16, 'blob:https://www.idus.com/2e72f9cc-e425-43b8-828b-f6391434116d', '🙂\\n안녕하세요!\\n만년필 드로잉을 그리는 펜형입니다.\\n퇴근하고 틈틈이 그렸던 그림이\\n유튜브 소재가 되고,\\n텔레비전 방송용 일러스트로 쓰이더니\\n마침내 클래스를 여는 계기가 되었어요 :)\\n\\n방법을 몰라서, 시간이 없어서\\n그림 그리기를 망설이는 분들께\\n이번 클래스가 도움이 되었으면 좋겠습니다.']\n",
      "[17, 5, 17, '마카와 색연필 드로잉으로 완성하는 컬러풀한 세상', 129000, '180일', '쉬움', '신청 즉시', '구매가능', 0, 0, '805', 0, 'https://image.idus.com/image/files/99b60abbd3f5480e90f23b7ef81b4aff_720.jpg', 17, 'blob:https://www.idus.com/6b28b03f-990a-4fe7-a68a-fd0a67aa9251', '안녕하세요, \\n평범한 일상의 순간들을 \\n컬러풀한 색감으로 그리고 있는\\n일러스트레이터 조한울입니다 :-)']\n",
      "[18, 11, 18, '내 맘대로 그려보는 마카쥬 가죽지갑', 159000, '180일', '쉬움', '3월 초', '구매가능', 0, 0, '315', 0, 'https://image.idus.com/image/files/cbceadcd7fad4381b2253d2231556702_720.jpg', 18, 'blob:https://www.idus.com/52b561bd-c75d-4413-9b64-6629e65e1216', '✔️ 수업영상 오픈 : 3월 10일(수) 오후 6시\\n✔️ 준비물은 3월 11일(목)부터 출고됩니다.\\n\\n\\n😊\\n안녕하세요!\\n단순히 지갑을 제작해보는 것에 \\n그치지 않고, 가죽 위에 \\n나만의 그림을 그려\\n세상 어디에도 없는 나만의 지갑을\\n만들어보는 클래스입니다.\\n\\n평소 카드지갑을 들고 다니면서 \\n한 번쯤 ‘이 지갑은 어떻게 만드는 걸까?’하고\\n생각하신 적이 있을 거예요.\\n\\n어렵게 생각하지 마세요.\\n난이도 별로 배우면서\\n쉽게 제작해 볼 수 있도록 도와드릴게요.']\n"
     ]
    },
    {
     "name": "stdout",
     "output_type": "stream",
     "text": [
      "[19, 3, 19, '귀여움이 팡! 터지는 캐릭터 머랭 쿠키 베이킹', 119000, '180일', '쉬움', '3월 초', '구매가능', 0, 0, '668', 0, 'https://image.idus.com/image/files/d9f0cf4d76cb45618814c58c03a9cb96_720.png', 19, 'blob:https://www.idus.com/f76f42f0-7515-42e8-af0c-06a8e1f1e767', '📢 알려드려요!\\n얼리버드 기간엔 가장 할인된 금액으로 구매 가능합니다.\\n\\n✔️ 얼리버드 기간 : 3월 9일 오후 6시 마감\\n✔️ 수업영상 오픈 : 3월 9일 오후 6시\\n✔️ 준비물은 3월 10일부터 출고됩니다.\\n\\n📢 수요조사 쿠폰은 수강권과 준비물을 함께 구매할 때 사용할 수 있습니다. 아이폰 유저는 애플 정책으로 인해 앱이 아닌 웹에서 사용가능한 점을 꼭 참고해주세요!\\n\\n안녕하세요.\\n귀여운 머랭 쿠키를 만드는\\n쥬쥬# 디저트입니다.\\n\\n이번 아이디어스 클래스에서는\\n기본 머랭 쿠키부터 시작하여\\n귀여움이 터지는 캐릭터 머랭 쿠키까지\\n총 6종류의 머랭 쿠키를 알려드릴게요.\\n\\n오븐만 있다면 누구나 쉽게!\\n도전해 보실 수 있는 클래스입니다.😊']\n",
      "[20, 12, 20, '아이패드로 그리는 보송보송 일러스트', 149000, '180일', '쉬움', '신청 즉시', '없음', 0, 0, '18,055', 0, 'https://image.idus.com/image/files/8482cdb67f8d47d284c9afffeae53df0_720.png', 20, 'blob:https://www.idus.com/1e32db0f-24a4-43cd-91e5-ec2ca96b0d25', '✔️ 준비물은 2월 16일 후, 이메일로 발송됩니다.\\n      작가 문의 메시지로 이메일 주소를 보내주세요. \\n\\n📢 아이패드와 애플 펜슬, 프로크리에이트 앱을 개인 준비물로 갖추셔야 하는 클래스입니다.']\n",
      "[21, 8, 21, '초보자도 쉽게 만드는 코바늘 수세미', 29000, '180일', '쉬움', '신청 즉시', '구매가능', 0, 0, '1,018', 0, 'https://image.idus.com/image/files/1722dece94a141a1a1a687dca6f86983_720.jpg', 21, 'blob:https://www.idus.com/917d26bb-4583-4489-8a0d-b6f331613f25', '😊\\n안녕하세요~\\n수세미 만드는 작가 다오닝입니다.\\n\\n코바늘 수세미는 어려워 보일 수 있으나 \\n몇 가지 방법만 배우시면\\n집에서 언제든 만들어\\n사용하실 수 있답니다.']\n",
      "[22, 2, 22, '자유로운 흐름이 매력적인 예술, 아크릴 플루이드', 119000, '180일', '쉬움', '신청 즉시', '구매가능', 0, 0, '1,389', 0, 'https://image.idus.com/image/files/eb54a20b45734d93b65b6de7e8e59d51_720.jpg', 22, 'blob:https://www.idus.com/6a96c03c-e64f-405f-9665-a4293303c6bc', '📣아래 작품들의 디자인에 대한 저작권은 헤이리에게 있습니다.\\n무단 도용 및 복제 시 법적인 제재를 받을 수 있으니,\\n관련 사항은 꼭 헤이리 작가님과 상의해주세요.']\n",
      "[23, 12, 23, '쉽게 그리는  맛있는 디지털 드로잉', 199000, '180일', '쉬움', '신청 즉시', '없음', 0, 0, '17,783', 0, 'https://image.idus.com/image/files/da59e67c1ee446349b9d66739816fb66_720.png', 23, 'blob:https://www.idus.com/668f9f27-8779-4379-9b98-3840b8729ffc', \"📢 알려드려요!\\n클래스 제작이 늦어져서 2월 26일로  예정된 영상일정이 1주일간 연기되었습니다. 기다려주신 분들께 분들께 좋은 영상으로 보답드리기 위한 과정이니 너그럽게 양해 부탁드립니다. 궁금한 사항이 있으시면 메세지로 문의해주시면 답변드리도록 하겠습니다.\\n1차 영상 오픈 : 3월 5일\\n2차 영상 오픈 : 3월 12일\\n\\n\\n🎁수강권 구매 후, 작가 메시지로 이메일 주소를 적어 보내주세요✍\\n수강권을 구매하신 분들께 달력 카드 목업 파일을 제공할 예정입니다.\\n\\n📢 아이패드와 애플펜슬을 개인 준비물로 갖추셔야 하는 클래스입니다.\\n     (갤럭시탭과 s펜 또한 가능합니다) \\n\\n📢 무료 드로잉 앱 '스케치북'(SketchBook)를 사용합니다.\"]\n",
      "[24, 6, 24, '자연의 색으로 그리는 힐링 숲, 아크릴 과슈 클래스', 159000, '180일', '쉬움', '신청 즉시', '구매가능', 0, 0, '1,096', 0, 'https://image.idus.com/image/files/ca1051830c5940d7aa1563db5ef033b0_720.jpg', 24, 'blob:https://www.idus.com/c4a95230-7c3e-4f14-bfc0-ea60fa47f412', '안녕하세요. \\n풀떼기와 나무, 여행 이야기를 그리는\\n토도비엔의 계남 작가입니다.\\n\\n일러스트레이터이자 회화작가로 활동하며\\n제 그림들로 만든 아트샵, 토도비엔을 운영하고 있어요.']\n",
      "[25, 12, 25, '그림으로 표현하는 나만의 일상, 아이패드 캐릭터 드로잉', 179000, '180일', '쉬움', '신청 즉시', '없음', 0, 0, '15,925', 0, 'https://image.idus.com/image/files/cf92c59a7de84fa2a003a38a468034f1_720.jpg', 25, 'blob:https://www.idus.com/a138af9c-681d-4bb2-8468-83faa1dc780d', '📢 아이패드와 애플펜슬을 개인 준비물로 갖추셔야 하는 클래스입니다.\\n\\n📢 수강권을 구매하신 분들께 강의 자료를 이메일을 통해 제공할 예정입니다. \\n수강권 구매 후, 작가 메시지로 이메일 주소를 적어 보내주세요✍\\n\\n안녕하세요. \\n그림으로 하루를 기록하는 쩌나입니다.😊\\n\\n오늘 입은 옷, 예쁜 케이크,\\n친구들과 함께한 여행…\\n그냥 흘러가기에는 아쉽지 않나요?\\n\\n지나가는 하루하루를\\n그림으로 남기고 추억할 수 있도록\\n디지털 드로잉 클래스를 준비했습니다.']\n",
      "[26, 12, 26, '손그림의 따스함을 담아낸 아이패드 드로잉', 119000, '180일', '쉬움', '신청 즉시', '구매가능', 0, 0, '19,419', 0, 'https://image.idus.com/image/files/8056117527f448788b377afcfe1e831d_720.jpg', 26, 'blob:https://www.idus.com/a8eff676-93e2-4517-9a01-2fd256f2d6c3', '📢 아이패드와 애플펜슬을 개인 준비물로 갖추셔야 하는 클래스입니다.\\n📢 클래스 수강에 필요한 자료 파일을 준비물로 판매합니다.']\n",
      "[27, 12, 27, '아이패드로 표현하는 나만의 패션 일러스트', 159000, '180일', '쉬움', '신청 즉시', '없음', 0, 0, '20,001', 0, 'https://image.idus.com/image/files/d4b6837b5a794f74b995649cb340c54e_720.jpg', 27, 'blob:https://www.idus.com/519c2b72-7a4e-4c71-a0a0-e8648620bfc7', '✔️ 아이패드와 애플펜슬을 개인 준비물로\\n갖추셔야 하는 클래스입니다.\\n\\n✔️ 수업에서는 Procreate 유료 앱을 사용하므로,\\n사전 개인 구매가 필요합니다.\\n\\n✔️ 수업 과정 특성상 작가님이 준비한\\n파일 자료 구매가 필수인 클래스 입니다.\\n\\n안녕하세요! \\n패션 일러스트레이터 문현진입니다🎨\\n\\n매해 시즌별 패션 일러스트를 공유하며\\n다양한 방법으로 많은 분들을 만나고 있어요:)']\n",
      "[28, 13, 28, '내 손 안의 작은 정원, 테라리움 만들기', 30000, '180일', '쉬움', '신청 즉시', '구매가능', 0, 0, '1,083', 0, 'https://image.idus.com/image/files/b0cd38955def4541811252e58d607bdb_720.jpg', 28, 'blob:https://www.idus.com/d712e16b-a34d-4c4d-9be5-f5ead01949e1', '안녕하세요.\\n식물 작업실을 운영하고 있는 \\n원모어위캔드입니다.\\n\\n원모어위캔드는 일상의 모든 행동이 \\n곧 쉼이 될 수 있는 콘텐츠를 연구하고 있어요. \\n\\n멈출 줄 모르는 코로나19로 \\n무료한 주말을 보내고 계시는 분들을 위해\\n손쉽게 만들고 꾸밀 수 있는\\n유리볼 정원을 가져왔어요.']\n",
      "[29, 14, 29, '스테인드글라스로 짓는, 따뜻한 우리 집', 40000, '180일', '보통', '신청 즉시', '구매가능', 0, 0, '1,075', 0, 'https://image.idus.com/image/files/c58df61ee8c8424a8293dff1b91cf1ae_720.jpg', 29, 'blob:https://www.idus.com/912f6740-5293-4854-98f7-83c5a86c5c03', '안녕하세요 여러분.\\n다시 돌아온 스테인드글라스 공방,\\n데코라티프 울쌤입니다:D']\n",
      "[30, 1, 30, '펀치니들로 만드는 유니크한 미니매트', 49000, '180일', '쉬움', '3월 초', '구매가능', 0, 0, '688', 0, 'https://image.idus.com/image/files/2d314c5d741f458b9f798539f84412f9_720.jpg', 30, 'blob:https://www.idus.com/ab60b945-1cf2-4d2d-b16b-7650022344e5', '📢 알려드려요!\\n얼리버드 기간엔 가장 할인된 금액으로 구매 가능합니다.\\n\\n✔️ 얼리버드 기간 : 3월 3일 오후 6시 마감\\n✔️ 수업영상 오픈 : 3월 3일 오후 6시\\n✔️ 준비물은 3월 4일부터 출고됩니다.\\n\\n안녕하세요. \\n펀치니들 작가 스태리라운지입니다.\\n펀치니들로 만들어 보는 유니크한\\n매트 클래스를 준비했어요.🎈\\n\\n펀치니들은 작업을 습득하는 것이 쉽고\\n다양하게 응용이 가능한 작업이에요. \\n익숙해지면 재미있는 소품들을\\n다양하게 만들 수 있답니다.']\n",
      "[31, 2, 31, '우연한 설렘, 플루이드 아트 서빙보드와 코스터', 42000, '180일', '쉬움', '신청 즉시', '구매가능', 0, 0, '1,383', 0, 'https://image.idus.com/image/files/522d5bfb069b4ae2be644686652bacf5_720.jpg', 31, 'blob:https://www.idus.com/72ae2a25-01c5-45ed-bc70-33a51ddc648f', '안녕하세요.\\n자연을 담은 공간 속 예술,\\n마시아트공방입니다.\\n\\n‘설렘’이란 단어를 좋아합니다.\\n기분 좋은 기대감이 들면서\\n만나기까지 가슴 떨리는 그 찌릿함\\n\\n느껴보신 적 있으시지요?']\n",
      "[32, 9, 32, '내 입술에 찰떡같이 어울리는 취향저격 립스틱', 75000, '180일', '쉬움', '신청 즉시', '구매가능', 0, 0, '2,021', 0, 'https://image.idus.com/image/files/058b6604a41f4ad284dcb61e2ef1d284_720.jpg', 32, 'blob:https://www.idus.com/0068d6e0-c9da-479c-9424-7963f0829cb6', '📢 알려드려요!\\n\\n• 온라인 수강권 : 75,000원\\n• 준비물 : 142,900원\\n• 수강권, 준비물 모두 구매 시 : 217,900원']\n",
      "[33, 13, 33, '특별한 날, 하나뿐인 메시지 꽃풍선 만들기', 179000, '180일', '쉬움', '신청 즉시', '구매가능', 0, 0, '2,012', 0, 'https://image.idus.com/image/files/5373a33a08c94832a648456c51c81e41_720.jpg', 33, 'blob:https://www.idus.com/f7fe21e2-19f6-4aeb-ae85-138fd2811006', '안녕하세요.\\n봉봉토퍼앤벌룬 봉언니입니다🎈\\n\\n언택트 시대에 발맞춰 온라인 클래스로\\n여러분을 만나 뵙게 되었어요. \\n\\n저와 함께 작고, 예쁜 꽃풍선을 만드실래요?']\n",
      "[34, 5, 34, '크레용으로 그리는 몽환적 세상', 169000, '180일', '쉬움', '신청 즉시', '구매가능', 0, 0, '3,136', 0, 'https://image.idus.com/image/files/022089f0463d4a9b8dfcf82cef5dda6a_720.jpg', 34, 'blob:https://www.idus.com/11073523-8d08-4eaf-b618-23dd32fe99cf', '안녕하세요, \\n몽환적인 색감의 꽃과 풍경을 그리는\\n아이반(i.banh)입니다.\\n\\n크레용이 아이들을 위한\\n그림 도구라고 생각하시나요?\\n크레용으로 표현할 수 있는 \\n세계는 무궁무진합니다✨']\n",
      "[35, 12, 35, '나의 첫 글씨, 쓰는대로 작품이 되는 디지털 캘리그래피', 169000, '180일', '쉬움', '신청 즉시', '없음', 0, 0, '18,403', 0, 'https://image.idus.com/image/files/fd5f4279e92642889761998a18d027ad_720.jpg', 35, 'blob:https://www.idus.com/d7613169-7a99-4ea0-b4f0-154fe64c28a1', \"📢 아이패드와 애플펜슬을 개인 준비물로\\n갖추셔야 하는 클래스입니다.\\n\\n※ 유료 어플 '프로크리에이트'를 사용합니다. 구매에 참고해주세요.\\n※ 클래스에 필요한 브러시 + 교재 + 자료 파일을 준비물로 판매합니다. \\n\\n안녕하세요!\\n새벽 3시의 감성, 세시입니다🌙\\n저는 12dostudio를 운영하고 있고,\\n캘리그라피 디자인을 하며 클래스를 \\n운영하고 있어요.\"]\n",
      "[36, 7, 36, '마음의 온기를 더하는 아름드리의 선물포장 종이&보자기 포장 수업', 179000, '180일', '쉬움', '신청 즉시', '구매가능', 0, 0, '2,149', 0, 'https://image.idus.com/image/files/a06370c62b4346d5a0536bf8b63cb50c_720.jpg', 36, 'blob:https://www.idus.com/0a40c420-f7f9-458a-91b4-c33874db2bde', '안녕하세요:)\\n선물 포장 디자이너이자,\\n크리에이터인 아름드리입니다🎁\\n\\n평소에 작은 선물을 주고받는 걸 좋아해서\\n선물 포장 전문가 과정을 수료하게 됐어요.']\n",
      "[37, 15, 37, '붓 하나로 완성하는 아기자기 수채화', 129000, '180일', '보통', '신청 즉시', '구매가능', 0, 0, '1,433', 0, 'https://image.idus.com/image/files/11c2b12573ca4241b9beb23ab1c26aec_720.jpg', 37, 'blob:https://www.idus.com/3fcdb340-bd40-494c-965f-90b7c5ec90d5', '안녕하세요.\\n작고 귀여운 꽃과 식물을 소재로 사랑스러운 그림을 그리는\\n일러스트레이터 복고풍로맨스입니다.']\n",
      "[38, 3, 38, '직접 내리는 커피 한 잔의 행복, 핸드 드립 클래스', 119000, '180일', '쉬움', '신청 즉시', '구매가능', 0, 0, '1,332', 0, 'https://image.idus.com/image/files/aac503e0552745e19adf8dab9a269eff_720.png', 38, 'blob:https://www.idus.com/3cb9bff2-f593-46d5-9b23-c0f96f0db58a', '🎁 커피제이 이벤트\\n수강권과 함께 베이직 키트 또는 업그레이드 키트를 \\n구매해주시는 분들께는 \\n커피제이의 핸드드립 시그니쳐 린싱머그컵을 드립니다.✨ \\n\\n 📢 수요조사 쿠폰은 수강권과 준비물을 함께 구매할 때 사용할 수 있습니다. 아이폰 유저는 애플 정책으로 인해 앱이 아닌 웹에서 사용가능한 점을 꼭 참고해주세요! (쿠폰 발행일: 1월 19일/ 사용 기간: 1월 31일까지)\\n \\n📢 준비물 키트 주문 시 새로운 원두의 로스팅 및 디개싱, 진공포장 및 세팅 등의 준비과정에 의해 배송까지 최소 3~4일의 시간이 소요됩니다. 클래스 주문 시 양해 부탁드립니다. \\n\\n\\n안녕하세요. 커피제이입니다.☕\\n집에 있는 시간이 \\n부쩍 많아지는 요즘,\\n\\n여유로운 시간을 이용해서 \\n맛있는 핸드 드립 커피를 \\n내리고 싶어하시는 분들이 많으신데요.\\n\\n정확한 방법과 공식으로\\n쉽지만 제대로 된 핸드 드립 커피를 \\n내리는 방법을 여러분들께 \\n알려드리려고 합니다.']\n"
     ]
    },
    {
     "name": "stdout",
     "output_type": "stream",
     "text": [
      "[39, 3, 39, '유튜브 100만 조회로 인정 받은 맛! 에그타르트 인생 레시피', 52000, '180일', '쉬움', '신청 즉시', '구매가능', 0, 0, '2,144', 0, 'https://image.idus.com/image/files/44c9c2e5d35b400e901681cee3ae1a1f_720.jpg', 39, 'blob:https://www.idus.com/49769c30-85cd-4243-8e4e-e3fc36af0c59', '안녕하세요 :)\\n베이킹 유튜브 크리에이터\\n그루밍식당입니다😉\\n\\n여러분은 에그타르트 좋아하시나요?\\n카페에서 사먹던 바로 그 에그타르트! \\n집에서도 손쉽게 만들어 먹을 수 있다면\\n얼마나 좋을까요😭']\n",
      "[40, 12, 40, '아이패드로 그리는, 살아 움직이는 디지털 색연필', 159000, '180일', '쉬움', '신청 즉시', '없음', 0, 0, '21,784', 0, 'https://image.idus.com/image/files/b2834527af3346aa86066ad4f181c061_720.jpg', 40, 'blob:https://www.idus.com/54203b2d-09cd-41cb-835a-8cd495f26d8f', '📢 아이패드와 애플펜슬을 개인 준비물로\\n갖추셔야 하는 클래스입니다.\\n\\n안녕하세요.\\n색연필로 따뜻한 일러스트를 그리는\\n원스입니다✨']\n",
      "[41, 3, 41, '새하얀 눈 위에 보석으로 물든 찹쌀떡, 셋빼 화과자', 79000, '180일', '쉬움', '신청 즉시', '구매가능', 0, 0, '2,001', 0, 'https://image.idus.com/image/files/97455682907242ec8448cd0dc0ad8452_720.jpg', 41, 'blob:https://www.idus.com/0b025931-065e-403a-8a80-bcebe716a5b5', '✔️본 클래스는 무제한 수강권 제외 클래스입니다.\\n✔️ 준비물 키트 배송은 3-5일 소요됩니다 (주말, 공휴일 제외)\\n\\n안녕하세요 :)\\n꽃처럼 아름다운 디저트를 만드는\\n디저트 아티스트 블루밍봉봉입니다 🌺']\n",
      "[42, 16, 42, '따뜻한 감성으로 가득 채우는 라탄 소품', 149000, '180일', '보통', '신청 즉시', '구매가능', 0, 0, '1,625', 0, 'https://image.idus.com/image/files/ecfd62bb1a2b4826a16e1f38d791bdba_720.jpg', 42, 'blob:https://www.idus.com/c559ce37-28bb-47b1-b881-4babb176ff5f', '📌설 연휴 배송 안내📌\\n설 연휴를 앞두고 택배사의 택배 접수 제한으로 인해 준비물 키트 배송이 연기되는 점 양해 부탁드립니다. 연휴가 끝나고 배송 접수가 가능한 차주부터 순차적으로 속히 배송해 드릴 예정이니 조금만 기다려 주세요.😢🙏\\n\\n안녕하세요!\\n자연 소재인 라탄을 이용해 소품을 만드는 \\n올라라탄입니다.🌱']\n",
      "[43, 2, 43, '영롱한 하루를 만들어 드립니다. 빛나는 레진 공예 클래스', 139000, '180일', '쉬움', '신청 즉시', '구매가능', 0, 0, '1,214', 0, 'https://image.idus.com/image/files/2da10602733f498ead9809dfdd28e611_720.jpg', 43, 'blob:https://www.idus.com/65b9d0c5-d394-423a-8bc3-be92d459c06d', '안녕하세요 :)\\n영롱한 레진 소품을 만드는 묘한지입니다.\\n\\n한 번쯤은 반짝거리고 영롱한 소품에\\n푹 빠져본 적이 있으실 텐데요.\\n\\n이번 클래스는 여러분들을 위해 \\n반짝이는 영롱한 소품과 악세사리를\\n직접 만들어볼 수 있는 클래스입니다.']\n",
      "[44, 8, 44, '천천히 조금씩, 내 손으로 뜨는 첫 스웨터', 119000, '180일', '쉬움', '신청 즉시', '구매가능', 0, 0, '2,664', 0, 'https://image.idus.com/image/files/dd8efd1ebb40487a85c79da7af80a436_720.jpg', 44, 'blob:https://www.idus.com/e3b55747-33e1-4121-b16c-1629f6fe1a42', '📢 알려드려요!\\n실 수급 관련 문제로 잠시 중단되었던,\\n준비물 키트 판매를 재개합니다.\\n기다려주신 모든 분들께 감사합니다🙏']\n",
      "[45, 1, 45, '보들보들, 펠트에 담아낸 귀여운 일러스트', 40000, '180일', '쉬움', '신청 즉시', '구매가능', 0, 0, '1,110', 0, 'https://image.idus.com/image/files/f05ba200e2c9444ba793b2fe302eec4b_720.jpg', 45, 'blob:https://www.idus.com/a01a2802-e9a3-4b27-bc6f-9d6b8f6de417', '안녕하세요.\\n손 그림과 손바느질로 보들보들 따스한 작품을 만드는\\n오렌지사우르스입니다.\\n\\n1:1 맞춤 제작으로 개성을 한껏 뽐낼 수 있는\\n단 하나뿐인 작품들을 만들고 있는데요,\\n제가 펠트 공예를 하며 느낀 즐거움을 \\n많은 분들과 공유하려 이번 클래스를 열게 되었습니다.']\n",
      "[46, 4, 46, '따뜻한 색감과 포근함을 엮어내는 프레임 위빙', 35000, '180일', '쉬움', '신청 즉시', '구매가능', 0, 0, '1,472', 0, 'https://image.idus.com/image/files/24aa3c42ad3a420aa8c5089f43fd76ff_720.jpg', 46, 'blob:https://www.idus.com/d288eb09-8d90-4706-9ba5-d09b50ecdee0', '안녕하세요.\\n일상의 소소한 것들을 실의 따뜻한 색감과 \\n형태로 풀어내는 작가 하라두입니다.']\n",
      "[47, 4, 47, '시선이 머무르는, 마크라메 거울', 39000, '180일', '쉬움', '신청 즉시', '구매가능', 0, 0, '2,133', 0, 'https://image.idus.com/image/files/b0da283b131848a19184fe22b0d74366_720.jpg', 47, 'blob:https://www.idus.com/c6fa8b83-3299-462c-9f22-e328cacba2aa', '안녕하세요. \\n바쁘고 지친 여러분의 일상을 \\n따뜻한 감성으로 채워드릴, \\n아나로그홀릭입니다 :)\\n\\n아이디어스에서\\n두 번째 마크라메 클래스로 인사드려요 :-)']\n",
      "[48, 1, 48, '니들펠트로 만드는 개성 가득 괴물 친구들', 59000, '180일', '쉬움', '신청 즉시', '구매가능', 0, 0, '2,823', 0, 'https://image.idus.com/image/files/6f1af09913fc4a0fba7ce7a582298ced_720.jpg', 48, 'blob:https://www.idus.com/b0154911-5b9a-4ccf-9216-7780526a896d', '📢 준비물은 12월 23일(수)부터 출고됩니다. \\n\\n※ 프리패스 미운영 클래스입니다. \\n\\n안녕하세요. <괴물은 몬스터>입니다.\\n아이디어스 클래스를 통해\\n많은 분을 만날 수 있어서 정말 기뻐요. \\n저와 함께 세상에 하나뿐인 \\n괴물 친구를 만들어보아요!']\n",
      "[49, 5, 49, '올 겨울을 따뜻하게 만들어줄, 오일파스텔 카드 만들기', 49000, '180일', '쉬움', '신청 즉시', '구매가능', 0, 0, '1,840', 0, 'https://image.idus.com/image/files/67bb240212994390a308feceaa62676c_720.jpg', 49, 'blob:https://www.idus.com/fb38174f-fb47-4730-8f1e-1a5387e7a838', '안녕하세요.\\n오일 파스텔로 그림을 그리는,\\n일러스트레이터 니아입니다.']\n",
      "[50, 1, 50, '아이의 첫 친구, 애착 곰인형 만들기', 29000, '180일', '쉬움', '신청 즉시', '구매가능', 0, 0, '1,994', 0, 'https://image.idus.com/image/files/fdcd68523b5b40cab4f925b2d61c0f31_720.jpg', 50, 'blob:https://www.idus.com/ce7a6c88-abed-4dc4-81dc-503b75e5f007', '안녕하세요! 인형 작가 ggomji입니다.\\n\\n내 아이의 첫 친구이자,\\n앞으로 추억을 함께 만들어갈\\n애착 곰인형 클래스로 인사드립니다.\\n\\n이번 클래스는 아기자기, 알록달록,\\n귀엽고 앙증맞은 모든 것을 좋아했던\\n어린 시절을 떠올리며 디자인했어요.\\n\\n동화 속에 나올 것 같은 \\n보기만 해도 행복한\\n귀여운 곰 캐릭터입니다.🐻']\n",
      "[51, 12, 51, '아이패드로 그리는 감성 풍경 일러스트', 169000, '180일', '쉬움', '신청 즉시', '없음', 0, 0, '23,073', 0, 'https://image.idus.com/image/files/105d026b7bc249cfb446bbe8741d5140_720.jpg', 51, 'blob:https://www.idus.com/1305dbdf-9796-4e97-bddb-9016c968c352', '📢 수강권을 구매하신 분들에 한해, 브러쉬 파일(3개) + 강의 자료를 이메일을 통해 제공할 예정입니다. \\n수강권 구매 후, 작가 메시지로 이메일 주소를 적어 보내주세요✍\\n\\n🎁 유담 선물 이벤트 🎁\\n클래스 수강 후 완성작 사진과 함께 수강 후기를 남겨주시면 유담 작가의 또 다른 풍경 일러스트 스케치 파일  5장을 보내드립니다.\\n\\n※ 아이패드와 애플펜슬을 개인 준비물로\\n    준비해 주셔야 합니다.\\n\\n안녕하세요.\\n서정적인 그림을 그리는\\n일러스트레이터 유담입니다.\\n\\n저는 주로 풍경을 그리고, \\n색감으로 분위기를 만들어요.🌲']\n",
      "[52, 17, 52, '오직 하나뿐인 패턴 만들기, 폴리머클레이', 159000, '180일', '쉬움', '신청 즉시', '구매가능', 0, 0, '1,093', 0, 'https://image.idus.com/image/files/55b07919a14a4c61ae621d2540799ff7_720.jpg', 52, 'blob:https://www.idus.com/8cacb3c8-3c14-48a1-940a-3448302c6022', '📢 무제한 수강권 대상이 아닌 클래스입니다.\\n\\n안녕하세요 :)\\n폴리머클레이로 하나뿐인 \\n패턴을 만드는 아띠모입니다.\\n\\n클래스를 통해\\n폴리머클레이와 함께하는 \\n힐링의 시간을 더 많은 분들과\\n함께 할 수 있게 되어 정말 기쁩니다.']\n",
      "[53, 11, 53, '인생신발, 에스파듀 슬립온 수제화', 89000, '180일', '쉬움', '신청 즉시', '구매가능', 0, 0, '685', 0, 'https://image.idus.com/image/files/2358c7ffbe1d46f996b7dbdbce839e89_720.jpg', 53, 'blob:https://www.idus.com/f17c1ffd-5914-4dc1-888c-4bc14b48e309', \"안녕하세요.\\n신발로 사랑을 전하는 미투위입니다.\\n\\n나로부터 '우리'라는 의미의 metowe는 \\n내가 아닌 우리가 되어 세상을 만든다는 뜻으로 \\n\\n2018년부터 2명의 작가가\\n각자 맡은 파트를 작업하며 \\n함께 다양한 신발을 만들고 있습니다.\"]\n",
      "[54, 18, 54, '욕조 안 나만의 크리스마스 준비하기, 버블바 클래스', 35000, '180일', '쉬움', '신청 즉시', '구매가능', 0, 0, '1,060', 0, 'https://image.idus.com/image/files/9ad56f07e0c44f1ca179f0e879c5478c_720.jpg', 54, 'blob:https://www.idus.com/2f042d9e-6e7b-40f2-9b9f-bf9e2799de4b', '안녕하세요.\\n좋아하는 것을 만들고 나누는\\n비누/캔들/입욕제 공방 올라제이입니다.\\n\\n찬바람이 옷깃을 여미게 만드는 겨울이 왔어요.\\n올겨울은 감기가 더욱 무섭게 느껴지는데요.\\n\\n언택트 문화로 \\n집에 있는 시간이 길어진 요즘,\\n\\n따끈한 목욕물에 입욕제로 거품을 내고\\n욕조 안 나만을 위한 시간을 \\n가져보는 건 어떨까요?😉']\n",
      "[55, 7, 55, '복을 선물한다는 의미가 담긴 보자기 포장', 159000, '180일', '쉬움', '신청 즉시', '구매가능', 0, 0, '1,128', 0, 'https://image.idus.com/image/files/943b41103ea34b43b6a3be666bbaeb9c_720.jpg', 55, 'blob:https://www.idus.com/25b35b97-e063-4956-b594-243e023c9fc7', '안녕하세요 :)\\n보자기 포장을 하는 프랩입니다.\\n\\n이번 수업은\\n포장하려는 물건의 생김새에 따른\\n보자기 선택과 포장법에 대해\\n배워보는 시간입니다.']\n",
      "[56, 15, 56, '펜과 수채화의 만남, 나의 여행드로잉', 179000, '180일', '쉬움', '신청 즉시', '구매가능', 0, 0, '1,383', 0, 'https://image.idus.com/image/files/24a96389a1c14f39a8429f6c633feba7_720.png', 56, 'blob:https://www.idus.com/a8d978f4-70e5-40d6-b49b-973d4cba55d9', '안녕하세요. \\n여행 드로잉 작가 안스입니다.\\n\\n전공자가 아니어도, 처음이어도\\n나의 여행 기록을 종이 한 장에 \\n표현할 수 있어요.🤠']\n",
      "[57, 19, 57, '천천히, 흙으로 빚는 아기자기 소품들', 139000, '180일', '보통', '신청 즉시', '구매가능', 0, 0, '686', 0, 'https://image.idus.com/image/files/1e83680f3fe74784a8d63086b1234e2d_720.jpg', 57, 'blob:https://www.idus.com/85e8eda6-6990-463f-95bd-c487b30ec2c8', '안녕하세요.\\n북촌 한옥마을 고즈넉한 언덕 위에서\\n도자기 작업을 하고 있는 ONDO입니다.']\n",
      "[58, 20, 58, '일상을 달콤하게 채울 영롱한 디저트 캔들', 149000, '180일', '쉬움', '신청 즉시', '구매가능', 0, 0, '1,822', 0, 'https://image.idus.com/image/files/2327841d361f47c2a297aa195b9606a4_720.jpg', 58, 'blob:https://www.idus.com/1c0cd630-5cc9-4d7f-977f-01eb61144d99', '안녕하세요!  캔들 크리에이터, \\n소소리프로젝트예요.🎈\\n\\n일상의 소소한 행복을 모토로 \\n소꿉멜츠, 디저트 캔들 등 \\n소소한 상상을 가득 담아 \\n캔들을 제작하고 있답니다.\\n\\n유튜브 소소당 sososugar에서도 \\n작품의 창작 과정을 공유하며 \\n많은 분에게 저의 캔들을 소개하고 있어요.']\n",
      "[59, 7, 59, '종이가 건네주는 위로, 페이퍼 커팅 클래스', 129000, '180일', '보통', '신청 즉시', '구매가능', 0, 0, '2,276', 0, 'https://image.idus.com/image/files/66fd75f950e44121ac4398e27c1dde06_720.jpg', 59, 'blob:https://www.idus.com/c5752c0a-223a-47ad-83d4-53afc1f9bb0c', \"안녕하세요.\\n페이퍼 커팅 아트를 하는,\\n오코박스[OKOBOX]의 작가 이지연입니다.\\n\\n저는 주로 갤러리에 전시되는\\n페이퍼 커팅 무드등을 제작하며,\\n'나'의 이야기를 담기 위해 노력했어요.\"]\n",
      "[60, 8, 60, '시선이 머무는 사랑스러운 데일리 뜨개백', 139000, '180일', '쉬움', '신청 즉시', '구매가능', 0, 0, '1,534', 0, 'https://image.idus.com/image/files/4aeaddc57930428f9dc47d3a9ee7afe4_720.jpg', 60, 'blob:https://www.idus.com/02a5e702-3fcf-472b-9f68-61662e558b72', '😊\\n안녕하세요.\\n코바늘 유튜브 크리에이터, \\n뜨개 작가 털몽치입니다.\\n\\n코바늘은 실과 바늘만 있다면\\n누구나 즐길 수 있는 매력적인 취미 생활이에요.\\n돌돌 감겨있는 실타래가 나의 손을 거쳐\\n멋진 작품이 될 수 있어요!🧶']\n"
     ]
    },
    {
     "name": "stdout",
     "output_type": "stream",
     "text": [
      "[61, 21, 61, '지그펜 캘리그래피와, 플러스펜으로 꾸미는 수채 그림', 129000, '180일', '쉬움', '신청 즉시', '구매가능', 0, 0, '1,862', 0, 'https://image.idus.com/image/files/cc61b557d3744e79964eb3eb6f543fa1_720.jpg', 61, 'blob:https://www.idus.com/68d3e79c-8b27-4183-9b75-34ddc89045b9', '안녕하세요. 그린나래캘리입니다.\\n\\n오랫동안 북&편집 디자이너로 활동하며\\n나만의 글씨를 꿈꾸다 자연스레\\n캘리그래피를 만나게 되었고,\\n\\n지금은 ‘그린나래 작업실’를 운영하며\\n캘리그래피와 그림 작업을 하고 있습니다.']\n",
      "[62, 3, 62, '달달한 꽃을 피워내는, 앙금 플라워 쿠키 클래스', 69000, '180일', '쉬움', '신청 즉시', '구매가능', 0, 0, '2,076', 0, 'https://image.idus.com/image/files/3fda2bea3a704438adfb9ede8b77176c_720.jpg', 62, 'blob:https://www.idus.com/966c46f6-7a8a-4150-86a5-7a1dcead52d6', '안녕하세요 오직아뜰리에 입니다 🌺\\n플라워 케이크와 크래프트 작품을 만드는 \\n공방을 운영하고 있으며 \\n현재 유튜브 크리에이터로도 활동하고 있습니다.']\n",
      "[63, 8, 63, '귀여운 히팝 몬스터 키링&스마트톡 만들기', 40000, '180일', '쉬움', '신청 즉시', '구매가능', 0, 0, '1,779', 0, 'https://image.idus.com/image/files/aede12932e614b7f9a3ea1937b9bfae8_720.jpg', 63, 'blob:https://www.idus.com/d3bc256b-3a5d-4a8a-8f84-f4fedc5763a6', '안녕하세요. \\n귀여움을 찾아 함께 떠나는 \\n뽀실이탐험대입니다!\\n\\n다가오는 겨울, 다들 뜨개질로\\n목도리를 만들거나\\n옷을 만들어 볼까 하는 생각\\n한 번쯤은 해보셨을 거예요!\\n\\n폭닥하고 따뜻한 목도리도 좋지만\\n이번 겨울은 코바늘로 쉽게 만드는\\n뜨개 키링과 스마트톡 어떠세요?']\n",
      "[64, 17, 64, '어릴 적 순수했던 마음을 추억하며 만드는 3D펜 장난감', 115000, '180일', '보통', '신청 즉시', '구매가능', 0, 0, '1,068', 0, 'https://image.idus.com/image/files/9fb512863bfc427482efb09b89185385_720.jpg', 64, 'blob:https://www.idus.com/d310dd71-fef8-4df3-966c-8c266d9b03c5', '안녕하세요.\\n3D 펜으로 못 만드는 거 빼고 다 만드는 리주네입니다.\\n저는 유튜브 채널을 운영하며 3D 펜 작업을 하고 있어요.\\n\\n상상을 현실로 불러일으키는 3D 펜만의 즐거움을\\n장난감을 만들며 재밌게 알려드리려 해요!\\n놀이처럼 즐거운 3D 펜 작업 과정을 함께 살펴볼까요?']\n",
      "[65, 3, 65, '머신 없이 완성하는 홈카페 라떼아트', 139000, '180일', '쉬움', '신청 즉시', '구매가능', 0, 0, '1,430', 0, 'https://image.idus.com/image/files/91ee2cf5fcbf463b81b5bef43b68df5e_720.jpg', 65, 'blob:https://www.idus.com/155d8621-5365-4625-b2e2-67acb2eb9e4a', '엇?! 집에서 라떼아트를 할 수 있다고?\\n뭐?! 머신 없이도 라떼아트가 가능하다고?\\n넵!! 집에서 그것도 머신 없이 라떼아트가 가능합니다.']\n",
      "[66, 10, 66, '사각사각 세밀하게 소중한 사람을 담아요, 연필 드로잉 클래스', 159000, '180일', '보통', '신청 즉시', '구매가능', 0, 0, '1,397', 0, 'https://image.idus.com/image/files/ffa5c887118d482aaf27a564c3c671fe_720.jpg', 66, 'blob:https://www.idus.com/2c309dfc-151d-41c0-97d8-0017abd4fa71', '안녕하세요🙂\\n연필만의 따듯한 분위기를 담아 \\n인물을 그리는 펜슬무드 입니다.\\n\\n서양화를 전공하면서 \\n다양한 재료들로 작품을 그려봤지만,\\n그중에서도 연필은 \\n저에게 가장 애착이 가는 \\n매력적인 재료입니다.']\n",
      "[67, 7, 67, '1년을 엮어 책에 무늬를 수놓다, 북바인딩 클래스', 30000, '180일', '쉬움', '신청 즉시', '구매가능', 0, 0, '1,893', 0, 'https://image.idus.com/image/files/c16037608591498e969f0b020e443ab1_720.jpg', 67, 'blob:https://www.idus.com/e8c5683d-bf53-4795-950d-e8a0d3b14d26', '📣 현재 주문량이 많아 배송이 다소 지연될 수 있습니다. 준비물은 주문 순서대로 발송됩니다.\\n\\n안녕하세요.\\n책을 통해 세상을 바라보고 소통하는,\\n북 아티스트 최수연입니다.']\n",
      "[68, 1, 68, '한땀한땀, 엄마가 만드는 사랑스러운 헤어밴드', 139000, '180일', '쉬움', '신청 즉시', '구매가능', 0, 0, '1,246', 0, 'https://image.idus.com/image/files/0b618a08f58543d39cd54c1aa020304a_720.jpg', 68, 'blob:https://www.idus.com/8aa7abf1-0e38-421a-a7e5-2bba4fa90632', \"안녕하세요.\\n유아 의류와 헤어 액세서리, 패브릭 작품을\\n만들고 있는 '유호랑' 작가입니다.\"]\n",
      "[69, 3, 69, '작은 케이크 속 달콤한 이야기, 팝시클 케이크 클래스', 39000, '180일', '쉬움', '신청 즉시', '구매가능', 0, 0, '1,067', 0, 'https://image.idus.com/image/files/e5a1dc1228224478be42b00b7f10910a_720.jpg', 69, 'blob:https://www.idus.com/67106828-ee59-4fbd-a616-4be4f7064669', '안녕하세요!\\n속초에서 달콤한 디저트를 \\n만들고 있는 속초아띠랑스입니다. 🙂\\n\\n이번 온라인클래스에서 \\n부드러운 빵과 달콤한 초콜릿을 이용해서\\n아기자기 귀여운 디저트 \\n팝시클 케이크를 만들어볼 거에요. 🍫']\n",
      "[70, 15, 70, '나의 사랑스런 고양이에게 따뜻한 그림 한 점, 수채화 클래스', 149000, '180일', '쉬움', '신청 즉시', '구매가능', 0, 0, '1,251', 0, 'https://image.idus.com/image/files/f3255e4824b04289be25df05c3fe3ce2_720.jpg', 70, 'blob:https://www.idus.com/53b97e24-2fce-4219-aa8b-9bad73b32fc5', '안녕하세요:D \\n우리 주변의 따뜻한 소재들을 그리는 수채화 작가 누누입니다. \\n‘누누작업실’ 이라는 제 공간에서 수채화 수업도 하고,\\n좋아하는 것들을 그리고 있습니다. \\n\\n저는 주로 동물과 식물, 꽃들을 그리는데요. \\n자연에서 얻는 긍정적인 에너지가 영감이 되어 \\n작업으로 이어지는 듯 해요🍀🌸']\n",
      "[71, 22, 71, '기다림 마저 설레게 하는 하드 왁스 카빙 주얼리', 169000, '180일', '보통', '신청 즉시', '구매가능', 0, 0, '1,681', 0, 'https://image.idus.com/image/files/efb597c0b7814770a7b9066812e8a399_720.jpg', 71, 'blob:https://www.idus.com/a0fc02b0-6597-4de4-b59c-cba1603d4665', '“어렵지 않아요. 그렇다고 아주 쉽지도 않습니다.”\\n\\n안녕하세요. 실버 크래프트 주얼리 스튜디오 “oflune(오브룬)” 입니다.\\n주얼리는 여러 종류의 형태와 다양한 과정으로 제작이 가능해요.\\noflune이 준비한 온라인 클래스에서는 파라핀(초의 일종)과 유사한 고체 물질인 하드 왁스를 사용하여 좀 더 볼드하고 세밀하며 감성적인 카빙 기법을 준비했어요.\\n\\n🌳 아이디어스 온라인 클래스만의 특전 🌳\\noflune 온라인 클래스를 수강하시는 모든 분들께 후반 과정의 2가지 작품 중 1가지 작품을 선택하시면 주물-배송과정에서 원하시는 위치에 oflune만의 한정 큐빅 지르코니아를 보석 세팅 후 선물 포장하여 드립니다.']\n",
      "[72, 3, 72, '특별한 날을 더 특별하게, 커스텀 케이크', 149000, '180일', '쉬움', '신청 즉시', '구매가능', 0, 0, '3,174', 0, 'https://image.idus.com/image/files/d68f0d1321f54cf48e3953c6f690c0ec_720.jpg', 72, 'blob:https://www.idus.com/f94057c5-a0ed-405c-9456-6c99375fd18d', '안녕하세요.\\n특별한 날을 더 특별하게 만들어 줄\\n커스텀 케이크 전문제작샵 달콤한정류장입니다.\\n\\n정말 맛있는 케이크를 만들고 싶어서\\n시작한 디저트 카페.\\n\\n케이크를 주문해 주시는 분들이 늘어나고, \\n그분들의 요청으로 케이크 위에 글씨를 쓰고,\\n색상을 입히고, 그림을 그리다 보니\\n어느덧 커스텀 케이크 전문제작샵으로 성장한\\n달콤한정류장입니다.']\n",
      "[73, 11, 73, '누구나 하나 쯤은 만들어 보고 싶은 가죽가방, 사첼백 클래스', 179000, '180일', '보통', '신청 즉시', '구매가능', 0, 0, '1,687', 0, 'https://image.idus.com/image/files/d75b885f5af3497c99a2087cd9dafd2b_720.jpg', 73, 'blob:https://www.idus.com/f3aa7111-4df0-4b15-b768-810e5c3e5659', \"'과연 내 손으로도 나만의 가방을 만들 수 있을까?'🤔\\n\\n매일 매일 필요한 소품들이 많아지면서,\\n오래 쓸 수 있으면서도 유행을 잘 타지 않는 가방이\\n필요한 것 같아요 👜\\n\\n가죽공예의 꽃이라 할 수 있는 사첼백 제작클래스를 통해\\n실용성과 즐거움을 모두 담은 클래스를 준비해봤습니다.\"]\n",
      "[74, 8, 74, '꼼지락 꼼지락 환경을 지키는 양말목 핸드니팅', 40000, '180일', '쉬움', '신청 즉시', '구매가능', 0, 0, '2,278', 0, 'https://image.idus.com/image/files/75beb7df66fd49119add7171deaca2c7_720.jpg', 74, 'blob:https://www.idus.com/86753edf-f178-4bab-b899-e330bafc8c14', '📢 주문 후 메시지로 원하시는 색상을 남겨주세요!!!\\n🚨메시지가 없을 시 배송이 지연됩니다!!!\\n\\n✔️이번 핸드니팅 클래스는 하루 또는 이틀 안에 작품 완성하는\\n부담 없는 가격의 원데이 클래스입니다🤲']\n",
      "[75, 6, 75, '꾸덕한 질감으로 그리는 사계절, 나이프 페인팅', 159000, '180일', '쉬움', '신청 즉시', '구매가능', 0, 0, '3,931', 0, 'https://image.idus.com/image/files/e8c827f3b6da44d39cbb2eb6def4171f_720.jpg', 75, 'blob:https://www.idus.com/a443f6c1-30dd-473d-96b8-f12555155e7d', '안녕하세요.\\n‘올리브그린 아뜰리에’를 운영하고 있는 올리브그린입니다🎨\\n\\n아크릴, 수채화, 유화 등 다양한 재료를 사용한 작품을 그리는데요.\\n이번 온라인클래스에서 모델링 페이스트와 나이프를 활용해\\n질감 있는 풍경화를 그리는 방법을 알려드리려고 해요😁']\n",
      "[76, 21, 76, '또박또박 만년필로 반듯함을 씁니다, 펜글씨 클래스', 169000, '180일', '쉬움', '신청 즉시', '구매가능', 0, 0, '2,835', 0, 'https://image.idus.com/image/files/9077fce9c05e4b3785268c5f145ff02d_720.jpg', 76, 'blob:https://www.idus.com/fc0b6cf0-314e-4a33-b295-5f98d9c17305', '안녕하세요.\\n글씨로 감성을 공작하는 캘리그라퍼 공작가입니다.✍🏻']\n",
      "[77, 18, 77, '네모 속 작은 예술, MP 디자인 비누 클래스', 139000, '180일', '쉬움', '신청 즉시', '구매가능', 0, 0, '1,626', 0, 'https://image.idus.com/image/files/3737766921da4f5abaeae55848c4ce28_720.jpg', 77, 'blob:https://www.idus.com/13afefdd-d1c3-4a5d-8b9c-d8b208ec25a9', '안녕하세요.\\n비누 공예 작가, 사랑방 비누 입니다.\\n\\n누구에게나 있는 마음 속 감성을\\n일깨워드리는 비누 공예로\\n여러분께 다가가고 싶어요.\\n\\n처음 만드는 비누도 쉽고 예쁠 수 있어요!\\n\\n네모 안의 작은 예술, \\n사랑방 비누와 함께 해보실래요? 😊']\n",
      "[78, 3, 78, '누구나 한번쯤 꿈꿔온 베이킹 클래스', 159000, '180일', '쉬움', '신청 즉시', '구매가능', 0, 0, '1,354', 0, 'https://image.idus.com/image/files/8d70c2c414be49c68b6fe8652ba6d639_720.jpg', 78, 'blob:https://www.idus.com/4433c91c-d75c-4695-869f-4b3c86c0242f', '안녕하세요 😊\\n대구에서 디저트 공방을 운영하고 있는\\n조안나 베이킹 스튜디오 주인장, 조안나입니다.']\n",
      "[79, 1, 79, '니들펠트로 작고 귀여운 숲속 동물 친구들을 만들어요!', 149000, '180일', '쉬움', '신청 즉시', '구매가능', 0, 0, '3,465', 0, 'https://image.idus.com/image/files/e4df4eccb2de44639e485537f94bcdf7_720.jpg', 79, 'blob:https://www.idus.com/71c14aa2-2b23-440a-b74f-479faaf2787e', '😊\\n안녕하세요 니들펠터 히소입니다 :-)\\n아이디어스 클래스로 만나게 되어 반갑습니다!\\n니들펠트는 다양한 섬유를 특수바늘로\\n압축해서 형태를 만드는 공예입니다.']\n",
      "[80, 17, 80, '내 손으로 빚는 달콤한 예술, 슈가크래프트 케이크', 139000, '180일', '쉬움', '신청 즉시', '구매가능', 0, 0, '807', 0, 'https://image.idus.com/image/files/9bf3051c9b3242048a58a652ab92c797_720.jpg', 80, 'blob:https://www.idus.com/7bd87ecc-a806-4c60-9265-10a27f732730', '안녕하세요. 설탕반죽으로 작품을 만드는\\n슈가아티스트 로사벳입니다.\\n아이디어스 금손 클래스로 \\n여러분들 만나게 되어 정말 반갑습니다:)\\n \\n슈가크래프트는 영국식 설탕공예이자\\n제과공예기술 중 하나로,\\n인체에 무해한 먹을 수 있는 설탕반죽을 사용해\\n처음부터 끝까지 수작업으로 이뤄지는 공예 기법입니다.']\n",
      "[81, 16, 81, '라탄, 어디까지 해봤니? 무늬를 엮어낸 심화 라탄', 169000, '180일', '보통', '신청 즉시', '구매가능', 0, 0, '1,843', 0, 'https://image.idus.com/image/files/d144a7913df443028340f945b624229e_720.jpg', 81, 'blob:https://www.idus.com/ace83943-fb41-426a-82cf-a383b24b1980', '안녕하세요. 조이라탄의 라탄 공예(등공예) 작가 이지정입니다.\\n라탄 DIY 키트, 소품, 가구 등 다양한 면에서 활동하고 있습니다.']\n",
      "[82, 22, 82, \"'톱질만 잘 해도!' 금속공예 마스터 클래스\", 269000, '180일', '보통', '신청 즉시', '구매가능', 0, 0, '1,157', 0, 'https://image.idus.com/image/files/ea1ffa7ed881498a878bcb6f1adbfc20_720.jpg', 82, 'blob:https://www.idus.com/7e615521-f034-4dbf-b201-0409c4e4bc54', '안녕하세요. 실버 주얼리 공방“Atelier Darin”의 작가 양은미, 김신혜입니다.\\n  \\n“톱질만 잘해도!!!”\\n\\n이번에 소개할 클래스는 금속공예의 기초 실톱 마스터 과정이에요.\\n금속공예는 과정이 많고 복잡하여 한 번의 클래스로 모든 과정을 마스터하기에는 무리가 있어요.\\n첫 번째 순서로 가장 기본 과정인 톱질을 마스터하여 여러 가지 아이템으로 완성해보는 클래스를 준비해봤어요.\\n  \\n이번 클래스에서는 하쿠나마타타, 날아올라 등 다린의 인기 작품을 기본 톱질로 만들어볼 수 있어요.\\n  \\n👏 아이디어스 온라인 클래스만의 특전 👏\\n\\n아무리 해봐도 어렵다, 못하겠다 싶은 순간이 있을 때 다린 공방에서 무료로 2시간 오프라인 수업을 들으실 수 있는 수강권(2시간)을 드려요.\\n수강권은 준비물 키트와 함께 실물로 제공해드립니다. *공방 위치(서울시 성동구)']\n"
     ]
    },
    {
     "name": "stdout",
     "output_type": "stream",
     "text": [
      "[83, 23, 83, '천년의 빛을 조각하는 자개공예 클래스', 169000, '180일', '쉬움', '신청 즉시', '구매가능', 0, 0, '1,646', 0, 'https://image.idus.com/image/files/d7111f820c8c4be3b9cd5bb5f855a781_720.jpg', 83, 'blob:https://www.idus.com/a8326adf-cf9d-44f3-bf94-cb54ac96a64e', '안녕하세요 50여 년간 자개 공예의 길을 걸어온\\n진주쉘 이영옥 명장입니다.\\n\\n자개공예의 전통을 널리 알리기 위해\\n이번 클래스를 준비하게 되었습니다.']\n",
      "[84, 16, 84, '깎을수록 뚜렷해지는 나의 취향, 목조각 클래스', 199000, '180일', '쉬움', '신청 즉시', '구매가능', 0, 0, '2,630', 0, 'https://image.idus.com/image/files/0e7de6aca0a64087bc3fe667853aaa8f_720.jpg', 84, 'blob:https://www.idus.com/4420a31e-7b62-462d-8f6b-33a5fed05b3d', '안녕하세요.\\n목조각 작가 윤소라입니다.\\n\\n나무를 이용해 일상생활 속\\n즐거움을 주는 다양한 생활 소품을 만드는\\n목조각 공방 ‘스튜디오 앤캣’을 운영하고 있습니다😸']\n",
      "[85, 4, 85, '시원함을 엮는 매듭 공예 마크라메 네트백 클래스', 30000, '180일', '쉬움', '신청 즉시', '구매가능', 0, 0, '809', 0, 'https://image.idus.com/image/files/8048b8eed7c049bf8332fc20a4755376_720.jpg', 85, 'blob:https://www.idus.com/fe4e92a8-dde4-4ade-bca9-5ec1f8862ad5', '안녕하세요 두 손으로 실을 엮어가는\\n손재주공장 함초롬입니다. 🙌\\n\\n여러가지 아이템을 만드는 게\\n부담스러운 분들을 위해\\n\\n하루 만에 완성할 수 있는\\n네트백 미니 클래스를 준비해 보았습니다 :)']\n",
      "[86, 9, 86, '손끝에 펼쳐지는 예술, 네일아트 클래스', 119000, '180일', '쉬움', '신청 즉시', '구매가능', 0, 0, '1,654', 0, 'https://image.idus.com/image/files/17de6d5f33b643d9a66ba770e274f858_720.jpg', 86, 'blob:https://www.idus.com/70a67460-ebf3-4b52-8a5b-fb0805030e5a', '📢 알려드려요\\n\\n샵 운영 일정으로 매월 14~25일은 주문 건 발송이 어렵습니다.\\n해당 날짜 구매 건은 26일 이후 순차 배송되는 점 양해 부탁드립니다 🙏\\n\\n안녕하세요\\n다혜킴 네일샵을 운영하고 있는\\n네일리스트 김다혜입니다.\\n\\n부드러운 감성을\\n손톱 위에 그려내는 작업을 하고 있어요.']\n",
      "[87, 8, 87, '섬세하고 우아한 매력, 태팅레이스', 149000, '180일', '보통', '신청 즉시', '구매가능', 0, 0, '1,299', 0, 'https://image.idus.com/image/files/2efa9ce27543473a9e8fb7e27446ae33_720.jpg', 87, 'blob:https://www.idus.com/ce5ec34d-7b21-4e5d-96d3-3090535130c6', '안녕하세요. 태팅레이스 작가 캐서린 설입니다\\n\\n태팅레이스 작업을 한지 어느덧 10년째 접어들었는데요! 이렇게 긴 시간 동안 태팅을 했는데도 섬세하고 우아한 태팅레이스의 매력에 빠져서 매번 작업을 할 때마다 결과물이 흡족하고 즐겁습니다.\\n이번 강의는 태팅을 처음 접해보시는 분들도 따라 할 수 있도록 쉽게, 그리고 기본 기법으로도 얼마든지 예쁘고 실용적인 작품을 만들 수 있도록 준비했습니다.\\n\\n작은 셔틀로 한 땀 한 땀 뜨는 모습조차도 우아한 태팅레이스, 저랑 같이 배워봐요.']\n",
      "[88, 2, 88, '자연스레 섞여가는 색의 어울림, 레진 마블링 클래스', 33000, '180일', '쉬움', '신청 즉시', '구매가능', 0, 0, '1,017', 0, 'https://image.idus.com/image/files/eb8026b3af65482aac8773d53f7d8641_720.jpg', 88, 'blob:https://www.idus.com/1717e5c5-50f5-45cb-832a-96a0440d32bb', '안녕하세요.\\n레진 마블링 작가 남한슬입니다.']\n",
      "[89, 15, 89, '나의 마음을 돌보는 시간, 감정 수채화 클래스', 45000, '180일', '쉬움', '신청 즉시', '구매가능', 0, 0, '1,228', 0, 'https://image.idus.com/image/files/e667b307415c449396402eda1cde90b0_720.jpg', 89, 'blob:https://www.idus.com/21daeb8d-55b4-4f44-bd3e-7f5d95ffb308', '안녕하세요 뉴욕과 서울에서 활동하는 수채화 일러스트레이터, 해나케이 입니다.']\n",
      "[90, 6, 90, '빈티지 감성으로 그려내는 오늘의 하늘, 아크릴 풍경화', 229000, '180일', '쉬움', '신청 즉시', '구매가능', 0, 0, '2,958', 0, 'https://image.idus.com/image/files/f0baa874f4134f34be9de969ba6fadd0_720.jpg', 90, 'blob:https://www.idus.com/b24a1401-8d4b-42d3-9f61-feaa9145dcdd', '안녕하세요, 일러스트 크리에이터 어니니입니다.\\n\\n이번에 빈티지 감성이 느껴지는 아크릴 풍경화 클래스를 준비해 왔어요.\\n느낌 있는 그림을 내 손으로 슥슥 그려내면 얼마나 좋을까요?\\n어니니와 함께 한 번쯤은 꿈꾸었던 멋진 그림을 그려봐요.']\n",
      "[91, 20, 91, '디자인을 입힌 나만의 캔들 만들기', 159000, '180일', '보통', '신청 즉시', '구매가능', 0, 0, '1,609', 0, 'https://image.idus.com/image/files/004512952b6b45378f3bf55c09afd76d_720.jpg', 91, 'blob:https://www.idus.com/3d969b33-7cb7-4e4e-805a-a3a3a3e8f623', '안녕하세요.\\n캔들 디자이너 후화정원 박선영입니다.\\n캔들, 석고, 비누 그리고 플라워 파이핑 등\\n다양한 분야에서 활동을 하고 있습니다.']\n",
      "[92, 21, 92, '다양한 글씨체로 종이에 스며드는 행복, 붓펜 캘리그라피', 149000, '180일', '쉬움', '신청 즉시', '구매가능', 0, 0, '1,831', 0, 'https://image.idus.com/image/files/90c65181c49a49a194ddc2b150750c2e_720.jpg', 92, 'blob:https://www.idus.com/116fb315-1fe1-4ca2-a5f8-4107c53ab07c', \"안녕하세요!\\n오랫동안 마음에 스며드는 캘리그라피 '스밈프로젝트'를 운영 중인 작가 스밈입니다.\\n\\n캘리그라피, 배워보고 싶다가도 어려워 보여서 선뜻 시작을 못하고 있지는 않으신가요?\\n문화센터 혹은 주민센터로 많은 짐을 챙겨 배우러 다니기에는 부담이 되고, 일 때문에, 학교 때문에, 가사일 때문에 등 여러 가지 이유로 시간 내기가 어려우셨을 것 같아요.\\n\\n이 클래스는 바로 그런 분들을 위한 수업이랍니다.\\n총 네 가지 글씨체를 배울 수 있도록 알차게 준비하였습니다.\\n클래스가 끝나고 난 뒤에는 붓펜과 종이만 있으면 시간과 장소에 구애받지 않고 언제 어디서나 바로 활용하실 수 있으실 거예요.\\n\\n저와 함께 캘리그라피의 기초부터 다양한 작품까지 만들어 보면서 '소소하지만 확실한 행복'을 느껴보세요!\"]\n",
      "[93, 11, 93, '나만의 색감과 각인으로 채워 넣는 내 방 안 가죽 공방', 199000, '180일', '보통', '신청 즉시', '구매가능', 0, 0, '1,065', 0, 'https://image.idus.com/image/files/0364ed51192444a08fcbc80f87778e9c_720.jpg', 93, 'blob:https://www.idus.com/a4d82ab2-6bb4-4155-89bc-7cafaa46f413', '안녕하세요, 미니멀 가죽공예를 지향하는 Offn이라고 합니다 :)\\nOffn만의 느낌을 담아 디자인 특허까지 등록한 제품 판매와 온라인 강의를 진행한 바 있습니다.  \\n이렇게 다방면으로 쌓은 Offn만의 느낌과 노하우를 여러분과 나누기 위해 새로운 클래스를 준비해 보았습니다 :)\\n\\n가죽공예가 처음인 초보 분들도 충분히 따라 하실 수 있게 가장 많이 쓰이며 기본적인 새들 스티치, 망치질 등 기초부터, 각인과 염색 등 다양한 기술들을 배우게 됩니다.\\n\\n그리고 기초 방법들을 적용한 소품부터 가죽공예의 마지막 입체 작품, 미니백도 만들어볼 예정이랍니다.']\n",
      "[94, 19, 94, '내 공간을 완성하는, 갖고 싶은 접시 만들기', 129000, '180일', '쉬움', '신청 즉시', '구매가능', 0, 0, '855', 0, 'https://image.idus.com/image/files/fd986ba176454f079f41cc0264429967_720.jpg', 94, 'blob:https://www.idus.com/a73e318a-392f-4f11-a1de-786fdc63b591', '안녕하세요.\\n흙의 따뜻함을 나누고자 흙으로 도자기를 만드는 도자기 공방 이지,유어디자인의 김의연입니다. \\n이렇게 아이디어스를 통해서 여러분과 만날 수 있게 되어 반갑습니다😊']\n",
      "[95, 22, 95, '감각적인 텍스처와 천연 원석의 실버 주얼리', 99000, '180일', '쉬움', '신청 즉시', '구매가능', 0, 0, '1,171', 0, 'https://image.idus.com/image/files/b7a4f1247a8646fe8bcc3c8215610512_720.jpg', 95, 'blob:https://www.idus.com/490f7bef-528a-4952-91c9-ac714702253e', '안녕하세요.\\n금속공예 작가 드리(Dree)입니다. 🙌\\n평면이 아닌 입체로 작품을 만드는 \\n금속공예의 독특한 매력에 빠져 \\n금속공예 공방 드리 스튜디오를 운영하고 있습니다.']\n",
      "[96, 6, 96, '내 손 안의 작은 작품, 폰케이스 페인팅', 65000, '180일', '쉬움', '신청 즉시', '구매가능', 0, 0, '997', 0, 'https://image.idus.com/image/files/ff6e7a1d70644765a5b0144ba2be2b5e_720.jpg', 96, 'blob:https://www.idus.com/4077185a-077b-4913-b3d8-346726e6bec7', '안녕하세요.\\n폰케이스 페인팅 작가 LSD입니다.🧑\\u200d🎨\\n\\n저는 명화 작품들과 추상화, 자연을 주제로\\n폰케이스 위에 그림을 그리고 있어요.']\n",
      "[97, 8, 97, '자랑하고 싶어지는 코바늘 아이템', 169000, '180일', '쉬움', '신청 즉시', '구매가능', 0, 0, '1,348', 0, 'https://image.idus.com/image/files/f64b65362876439098286f2e7ca6821c_720.jpg', 97, 'blob:https://www.idus.com/79ebb792-cc56-4635-b891-b90b529e98a4', '안녕하세요. 코바늘 손뜨개를 취미로 지낸 시간이 어느덧 20년이 넘어 직업이 되어 버린, 코바늘 손뜨개 작가 샤샤친구팩토리입니다.\\n저는 현재 아이디어스에서 작가로, 크리에이터로 활동하고 있으며 코바늘 초보자분들을 위한 다양한 도안을 개발하고 있습니다.']\n",
      "[98, 20, 98, '향기로 풍경을 그려내는 조향 기초', 119000, '180일', '쉬움', '신청 즉시', '구매가능', 0, 0, '1,583', 0, 'https://image.idus.com/image/files/e65ee40659b34a3f892cb9403f9b55b9_720.jpg', 98, 'blob:https://www.idus.com/bd2a0578-5cff-4024-a9a7-096688aec23b', \"📢 설 연휴 배송 지연으로 키트 재료 수급이 늦어지고 있습니다. \\n2/8 이후 주문 건은 2/22부터 순차적으로 배송될 예정입니다.\\n수강생분들의 양해 부탁드립니다. \\n\\n안녕하세요. 조향사 Carol입니다.\\n직접 조향한 향기를 바탕으로 향수 및 화산석 디퓨저, 샤쉐 등 향 제품을 소개하는 Scent A Clause(센타클로스)를 운영하고 있습니다.\\n브랜드명 Scent A Clause는 ‘이야기에 담긴 향기’라는 의미를 담고 있습니다.\\n\\n이번 클래스는 '향기로 풍경을 그려내는 조향 기초'라는 컨셉으로 진행됩니다.\\n향기가 지니는 의미와 향을 통해 느낄 수 있는 감정들을 소중하게 생각하는 센타클로스가 온라인에서도 클래스를 진행할 수 있게 되면 더욱 많은 분들께 향기를 감상하는 방법을 전해드릴 수 있을 거란 생각에 정말 기쁩니다.\"]\n",
      "[99, 3, 99, '동화보다 예쁜 색감, 마카롱 맛집의 비밀 레시피', 169000, '180일', '보통', '신청 즉시', '없음', 0, 0, '1,228', 0, 'https://image.idus.com/image/files/99e4a5a3e6f4434d8f7ce06ad10adcdb_720.jpg', 99, 'blob:https://www.idus.com/eaa9679e-af81-45b0-96e2-d49137c3bc00', '안녕하세요.\\n달콤한 한 방울을 더하는, 오늘마카롱입니다.\\n저희가 만드는 디저트는\\n‘오늘 먹는 게 가장 맛있다’는 의미로 지은 이름이에요😊']\n",
      "[100, 16, 100, '방 안을 가득 채우는 여름, 라탄 클래스', 179000, '180일', '보통', '신청 즉시', '구매가능', 0, 0, '1,547', 0, 'https://image.idus.com/image/files/e64e9fa55a5f485e932c20f1dacd4b00_720.jpg', 100, 'blob:https://www.idus.com/bdd31c0c-7d2e-4d64-b1a3-2eb670f415f3', '안녕하세요.\\n라탄공예(등공예) 작가 서미란입니다.\\n저는 등나무로 소품과 가구를 만드는 \\n‘진진의 소소한 작업실’을 운영하고 있어요😊']\n",
      "[101, 10, 101, '흑백이 주는 클래식한 풍경, 펜드로잉 클래스', 179000, '180일', '쉬움', '신청 즉시', '구매가능', 0, 0, '3,668', 0, 'https://image.idus.com/image/files/c200807684d04976a1d478f68ffb85dd_720.jpg', 101, 'blob:https://www.idus.com/68e69850-d14e-4ea9-aa4f-0f9223799415', \"📢 알려드립니다! 주문량이 많아 주문 후 발송까지 일주일 정도 소요될 수 있습니다.\\n양해 부탁드립니다. 🙏\\n\\n안녕하세요 😀\\n클래식 펜화 작가 김나현(나디아)입니다.\\n\\n한국펜화가협회 정회원으로 활동하고 있으며,\\n펜드로잉 공방 '나디아 아뜰리에'를 운영하고\\n유튜브 크리에이터로도 활동하고 있습니다.\"]\n",
      "[102, 21, 102, '마음을 담아 쓰는 붓펜 캘리그라피', 149000, '180일', '쉬움', '신청 즉시', '구매가능', 0, 0, '3,341', 0, 'https://image.idus.com/image/files/589f300c8db34675a17cfb28ec6d75bd_720.jpg', 102, 'blob:https://www.idus.com/a54e2e69-41c8-4e9d-aa48-5d872d35f065', '안녕하세요, \\n<류바의작업실>을 운영하고 있는 캘리그라피 작가 류바입니다.\\n\\n캘리그라피는 처음에는 글씨를 쓰는게 좋아서 시작했던 일이었는데어요.\\n제 글씨를 보며 행복을 얻고 위로를 얻는 분들을 보면서, 더욱 ‘마음을 담은 글씨를 쓰고싶다’ 라고 생각하게 되었던 것 같아요.\\n평범했던 문장도 마음을 담은 나만의 글씨로 어여쁘게 다시 태어나게 하는것.\\n그것이 캘리그라피가 가진 가장 큰 매력이 아닐까 생각합니다.']\n",
      "[103, 3, 103, '부드러운 앙금으로 빚어내는 사계절 네리끼리 화과자', 179000, '180일', '쉬움', '신청 즉시', '구매가능', 0, 0, '2,622', 0, 'https://image.idus.com/image/files/d87ed88e29424ebb80a17aa74879369d_720.jpg', 103, 'blob:https://www.idus.com/bdd09259-5aee-49c6-8dc9-3256fc8214ff', '📢 준비물 키트 배송은 3-5일 소요됩니다 (주말, 공휴일 제외)\\n\\n안녕하세요 달콤한 디저트와\\n사랑에 빠진 디저트 아티스트\\n블루밍봉봉 정승연입니다😀\\n\\n이번 클래스에서는\\n사계절의 느낌을 그대로 담아,\\n총 24개의 화과자를 만들어 보겠습니다!']\n"
     ]
    },
    {
     "name": "stdout",
     "output_type": "stream",
     "text": [
      "[104, 13, 104, '일상을 꽃으로 채워보세요. 플로리스트 입문하기', 149000, '180일', '쉬움', '신청 즉시', '구매가능', 0, 0, '1,496', 0, 'https://image.idus.com/image/files/95c2f350941d40d6a71ea4d8f724f46a_720.jpg', 104, 'blob:https://www.idus.com/ffc0ae76-0efe-4d9d-af77-7551b653e563', '안녕하세요.\\n플라워공방 아뜰리에 라모 입니다.\\n꽃이 주는 힘을 느껴보신 적 있으신가요?\\n싱그러운 생화에서만 느낄 수 있는 에너지를 전달해 드릴게요.']\n",
      "[105, 11, 105, '감성저격 물성형 입체 가죽공예', 169000, '180일', '쉬움', '신청 즉시', '구매가능', 0, 0, '1,328', 0, 'https://image.idus.com/image/files/de363b1b2fce46d4a20af21cd084ebb6_720.jpg', 105, 'blob:https://www.idus.com/d6132edb-2f67-45de-8612-b126425f9fe2', '안녕하세요, 가죽공예 크리에이터 하안입니다.\\n\\n가죽공예로 전세계 구독자분들과 소통하기 시작한 이후로, 강의나 키트에 관한 많은 문의를 받았었습니다.\\n그래서 이번 금손클래스를 통해 많은 분들이 가장 궁금해하셨던 수업을 준비했습니다.\\n\\n어려워보이신다구요?\\n공방 옆자리 친구처럼 과정을 하나하나 자세히 알려드려 처음해보시더라도 충분히 가능하십니다.\\n그리고 더 쉽게 작업을 하실 수 있도록 저만의 팁과 아이디어를 모두 담았습니다. 제가 옆에서 도와드릴게요!\\n\\n초보도 쉽게 따라할 수 있는 가죽공예, 같이 시작하실까요?']\n",
      "[106, 18, 106, '내 피부에 꼭 맞춘, 홈메이드 수제비누 클래스', 149000, '180일', '쉬움', '신청 즉시', '구매가능', 0, 0, '1,365', 0, 'https://image.idus.com/image/files/9c1712b649494d3fbc60353333bebe8b_720.jpg', 106, 'blob:https://www.idus.com/e159e170-ac66-4bad-a594-5b747acbece0', '안녕하세요.\\n비누 만드는 걸 좋아하는 사람, 필로소퍼 이향희입니다.\\n저는 일상에 아름다움을 더하는 수제비누를 만들고 있어요.']\n",
      "[107, 1, 107, '드르륵 재봉틀로 일상 속 패브릭 소품 만들기', 159000, '180일', '쉬움', '신청 즉시', '구매가능', 0, 0, '1,208', 0, 'https://image.idus.com/image/files/bbb72f06205d4e15b68993f652ca81e4_720.jpg', 107, 'blob:https://www.idus.com/17579563-e61e-4d5d-baaa-cf77cb6f0d85', '안녕하세요.\\n재봉틀 작가 횬입니다 :-)\\n\\n저는 재봉틀 수업을 진행하고 있고 수업을 진행한지는 9년정도 되었습니다.\\n그리고 좋아하는 원단들로 평상시에도 잘 사용할수 있는 아이템들을 만들고 있습니다.']\n",
      "[108, 1, 108, '한 땀씩 배우는 반짝반짝 플라워 자수', 119000, '180일', '쉬움', '신청 즉시', '구매가능', 0, 0, '1,720', 0, 'https://image.idus.com/image/files/6174025dc7064acc920d83593b3e895e_720.jpg', 108, 'blob:https://www.idus.com/d7cd6719-841f-4b51-b9a4-4ec2c3d986d0', '안녕하세요. 아뜰리에 앙즈를 운영하고 있는 프랑스자수 아티스트 앙즈 입니다.\\n\\n먼 곳 프랑스에서 자수를 처음으로 만난 날 이후로 항상 새로운 아름다움을 찾기 위해 노력하고 있습니다.\\n한국으로 돌아와 07년부터 분당에서 프랑스자수를 전문적으로 강의하고 있습니다.\\n\\n그동안 강의를 하다 보면 처음 만나시는 분들이 항상 하시는 걱정이 있어요.\\n내가 할 수 있을까? 어렵지 않을까?\\n그럼 항상 이렇게 말씀해 드려요.\\n\"프랑스자수는 어렵지 않아요.\"\\n자세하게 하나씩 알려드릴게요.']\n",
      "[109, 4, 109, '따뜻한 감성으로 채워지는 시간, 마크라메', 109000, '180일', '쉬움', '신청 즉시', '구매가능', 0, 0, '2,457', 0, 'https://image.idus.com/image/files/e84e7bbe683043ca8a5b263689e32376_720.jpg', 109, 'blob:https://www.idus.com/08be93c0-9524-4b89-8f5b-5702f8fa8521', '안녕하세요. 바쁘고 지친 여러분의 일상을 따뜻한 감성으로 채워드릴, 아나로그홀릭입니다.\\n단계별로 만드는 작품을 통해 마크라메의 기본 매듭법은 물론, 매듭을 예쁘게 짓는 디테일한 노하우, 그리고 작품의 마무리를 단정하고 쉽게 할 수 있는 깨알 팁까지 아낌없이 알려드려요.']\n",
      "[110, 7, 110, '내 손으로 직접 피워내는 꽃, 페이퍼 플라워 클래스', 115000, '180일', '쉬움', '신청 즉시', '구매가능', 0, 0, '1,330', 0, 'https://image.idus.com/image/files/b1fb4abbc5b440658938cb16e60951b6_720.jpg', 110, 'blob:https://www.idus.com/850f86cf-336a-4d10-96c3-dfa7e9603cb9', '안녕하세요 🌻\\n한 장 한 장의 꽃잎이 한 송이 꽃이 되어가는 과정을\\n함께하는 리플로라의 소피아입니다.']\n",
      "[111, 15, 111, '감성 수채화 일러스트 클래스', 179000, '180일', '쉬움', '신청 즉시', '구매가능', 0, 0, '1,928', 0, 'https://image.idus.com/image/files/5892fb95b56e4a88af3dfae2ac6a24c0_720.jpg', 111, 'blob:https://www.idus.com/e33c8cb3-f2ae-4f76-ae4d-add0739b458e', '⚠️ 배송관련 공지\\n물감 건조 시간 및 종이 수입에 따라 배송이 늦어질 수 있습니다.\\n※ 현재 준비물 발송은 재고 사정으로 인하여 1월 25일부터 가능합니다.\\n배송기간 관련 궁금하신 점 있으시면 메세지로 문의 부탁드립니다 :)\\n\\n\\n200g?! = 종이의 두께는 g으로 표시됩니다.\\n200g은 우리가 어렸을 때 그림을 그릴 때 사용하던 스케치북의 종이 두께입니다.\\n어릴 적 즐겁게 그림을 그리던 마음으로 가볍게 시작해 보세요:)']\n",
      "[112, 8, 112, '김재경과 함께하는 반려동물 아이템 클래스, 코바늘 파라코드', 109000, '180일', '쉬움', '신청 즉시', '구매가능', 0, 0, '1,414', 0, 'https://image.idus.com/image/files/9a9081d6232742019e4e6d5642c28744_720.jpg', 112, 'blob:https://www.idus.com/183ad8d7-f332-406e-a63f-11cd293df11c', '오랜 시간 준비한 정성 가득한 이번 클래스,\\n그동안의 경험을 차곡차곡 쌓아\\n좋은 재료와 영상으로 여러분께 인사드립니다! 🙌\\n\\n안녕하세요 작가로 인사드리게 된 김재경입니다 🌈']\n",
      "[113, 5, 113, '나만의 영롱한 색연필화 클래스', 199000, '180일', '쉬움', '신청 즉시', '구매가능', 0, 0, '2,279', 0, 'https://image.idus.com/image/files/08247737390f4c91883847b385caee75_720.jpg', 113, 'blob:https://www.idus.com/b7ef6b65-323d-4835-84f6-3c834d3a6eec', '안녕하세요, 드로잉 작가 유일 입니다.\\n여러분과 나만의 영롱한 색연필화 클래스를 함께 하게 되었어요!\\n나만의 감성을 담아낸 색을 찾고, 그림에 담아내는 법을 알려드릴게요.\\n\\n그동안 익숙하게만 느껴졌던 색연필, 곧 새로운 매력을 찾게 되실거에요 :-)']\n",
      "[114, 10, 114, '마카로 기록하는 오늘의 코디 일기', 139000, '180일', '쉬움', '신청 즉시', '구매가능', 0, 0, '1,664', 0, 'https://image.idus.com/image/files/0d1fc29761cb418ab35cb5f1a445ce72_720.jpg', 114, 'blob:https://www.idus.com/85955ea2-e807-4f2d-b3ea-119fae9c2992', '안녕하세요. 😊\\n아이디어스에서 2번째 클래스로 인사드리는\\n일러스트레이터 겸 디자이너 보라이어티입니다.']\n",
      "[115, 5, 115, '사포에 선명하게 담아내는 감성드로잉', 149000, '180일', '쉬움', '신청 즉시', '구매가능', 0, 0, '667', 0, 'https://image.idus.com/image/files/5034b8a4ee9e48efbce94181ac188bdb_720.jpg', 115, 'blob:https://www.idus.com/18378052-5fa3-4da0-9bcf-543f0602c4a9', '안녕하세요, 담다입니다 😀\\n저는 일러스트레이터로 활동하며\\n다양한 드로잉 전시 활동도 하고 있습니다. \\n\\n아이디어스에서 여러분들을 만나게 되어 정말 반갑습니다!\\n\\n📢 작가님의 개인 사정으로 인해 1월 29일(금)부터 4월 30일(금)까지 준비물 구매가 불가합니다. 양해 부탁드립니다.']\n",
      "[116, 15, 116, '한지에 물드는 아름다운 색감, 모던민화', 259000, '180일', '보통', '신청 즉시', '구매가능', 0, 0, '1,803', 0, 'https://image.idus.com/image/files/c868373ad6544b13a33f86615cb7625b_720.jpg', 116, 'blob:https://www.idus.com/01cd723e-44c2-41c3-b1d0-b2f1f3e5cc4c', '안녕하세요.\\n민화 작가 다화가입니다. 🙂\\n동양화를 전공하고, 민화 화실을 운영하고 있습니다.\\n\\n이번 온라인 금손클래스에서는 \\n동양화를 혼자 시작하기 막막하셨던 분들에게\\n도움이 될 수 있도록 기초적인 재료 설명과 \\n재료와 도구의 구매처까지 알려드립니다.']\n",
      "[117, 5, 117, '문지르면 피어나는 풍경화, 오일파스텔 클래스', 169000, '180일', '보통', '신청 즉시', '구매가능', 0, 0, '4,129', 0, 'https://image.idus.com/image/files/bfa27f9d6b814d00ba5e5930514094b6_720.jpg', 117, 'blob:https://www.idus.com/5c297027-84b4-4877-96c4-98efb2e266ed', \"📢알려드려요!\\n오일파스텔은 '종이패키지'로 발송됩니다.\\n나무패키지가 아니라는 점 참고해주세요!\\n\\n\\n안녕하세요.\\n오일파스텔로 그림을 그리는, 일러스트레이터 니아입니다.\\n\\n'다시 만나는 크레파스’,\\n'하늘 담은 오일파스텔 풍경화'의 저자이자,\\n디자인 스튜디오인 'ONDO'를 운영하고 있어요.\"]\n",
      "[118, 8, 118, '코바늘로 뜨는 귀여운 동물 에어팟, 버즈 케이스', 139000, '180일', '쉬움', '신청 즉시', '구매가능', 0, 0, '1,300', 0, 'https://image.idus.com/image/files/040ff65373fa4ac78689fced133e7b57_720.jpg', 118, 'blob:https://www.idus.com/03a6828f-a15e-411c-ac36-d5fd3669df38', '안녕하세요. 코바늘 작가, 니들박스입니다.\\n십 년 넘도록 태블릿 펜을 잡고 컨셉 디자인 일을 하던 제가 친구의 태어날 아가 꼬까신을 떠주고 싶어서 잡았던 코바늘의 매력에 빠져 어느샌가 코바늘은 저의 운명이 되었네요.\\n\\n코바늘의 기초 기법만으로도 무선 이어폰 케이스나 작은 인형 키링을 만들 수 있어요.\\n더 나아가 저만의 방법, 아이디어, 꿀팁 등을 아낌없이 알려드리는 클래스입니다.  \\n\\n클래스가 끝난 뒤에도 여러분들 스스로 응용하여 크기가 다른  무선 이어폰 케이스와 동물 인형 등을 제작할 수 있도록 구성했어요.\\n차근차근 단계적으로 꼼꼼히 알려드릴게요.\\n저만 믿고 따라오세요 :-)\\n\\n자, 여러분도  코바늘의 매력에 빠질 준비되셨나요?']\n",
      "[119, 15, 119, '곰손도 그리는 차근차근 수채화', 179000, '180일', '쉬움', '신청 즉시', '구매가능', 0, 0, '3,004', 0, 'https://image.idus.com/image/files/45a56da4cd8c4df9a40a1bec1b331b8f_720.jpg', 119, 'blob:https://www.idus.com/5140ab6f-2d0f-4989-8b14-ac6606234f0d', '안녕하세요 🎨\\n연남동에서 수채화 화실을 운영하고 있는 일러스트레이터 윤꽃입니다.']\n",
      "[120, 3, 120, '꽃 향기가 느껴지는 특별함, 초콜릿크림 플라워 케이크', 159000, '180일', '쉬움', '신청 즉시', '구매가능', 0, 0, '1,945', 0, 'https://image.idus.com/image/files/34ec3c7a48824f95a589dd8b0fb789a8_720.jpg', 120, 'blob:https://www.idus.com/4d1ab210-d8fc-4c2b-87cc-5da5ac2c9fac', \"📣 수업에서 알려드리는 레시피는 작가의 동의없이 무단으로 외부유출시 법적인 제재를 받을 수 있으니, 관련사항은 꼭 오직아뜰리에 작가님과 상의해주세요\\n\\n안녕하세요 🌸\\n플라워 케이크와 플라워 파이핑 크래프트 공방을 운영하고 유튜브 크리에이터로 활동하는 '오직아뜰리에' 입니다.\"]\n",
      "[121, 5, 121, '여행, 푸드, 인테리어가 담긴 색연필 드로잉과 마술종이 슈링클스', 105000, '180일', '쉬움', '신청 즉시', '구매가능', 0, 0, '2,503', 0, 'https://image.idus.com/image/files/f7661f0f9a24419e91ff9fa0b2cb4584_720.jpg', 121, 'blob:https://www.idus.com/e9b9a990-ff66-4cc8-a869-c0b54ba1b15f', '안녕하세요!\\n아날로그 감성을 그리는\\n일러스트레이터 ‘보라이어티’입니다 :)\\n\\n여러분에게 손그림의 매력을 알려드리기 위해\\n이번 클래스를 준비했어요.\\n\\n그림을 처음 시작하는 분들도 쉽게 따라 하실 수\\n있도록 구성되어 있으니, 걱정하실 필요 없습니다🙌']\n",
      "[122, 16, 122, '나무 위에 새겨지는 자연스러운 칼자국,우드카빙 수업', 149000, '180일', '보통', '신청 즉시', '구매가능', 0, 0, '3,935', 0, 'https://image.idus.com/image/files/bfb7cea0880f468d99860856e6537123_720.jpg', 122, 'blob:https://www.idus.com/abd56d1b-eec8-4d7c-8923-cb4fa0c5d777', '-\\n안녕하세요.\\n나무로 살림도구를 만드는,\\n우드카빙 작가 남머루입니다.\\n\\n이번 금손클래스에서는\\n우리 생활에서 가장 밀접하고 실용적인,\\n나무살림도구를 함께 만들어 볼 예정입니다.']\n",
      "[123, 8, 123, '나만의 속도에 맞춰 즐기는 따뜻한 취미, 뜨개질 클래스', 139000, '180일', '보통', '신청 즉시', '구매가능', 0, 0, '1,847', 0, 'https://image.idus.com/image/files/d190f18207b343ff8f08917ec666bc49_720.jpg', 123, 'blob:https://www.idus.com/a4d86951-3d9d-43a8-8661-38c9e79084ec', '안녕하세요! \\n나만의 템포에 맞춰 좋아하는 것들을 뜨는, \\n느린멜로디입니다.\\n\\n이번 클래스는 아메리칸 & 컨티넨탈 두 방식을 사용하여, \\n13가지 뜨개 기법을 배우실 수 있도록 준비했습니다.\\n\\n뜨개질의 기초부터 심화 과정, \\n그리고 저만의 팁까지 더해 알차게 구성했으니, \\n다양한 난이도를 경험하실 수 있을 거예요🙏']\n",
      "[124, 21, 124, '빈 종이를 채워가는 아날로그 취미, 딥펜 캘리그래피', 159000, '180일', '쉬움', '신청 즉시', '구매가능', 0, 0, '2,219', 0, 'https://image.idus.com/image/files/2ce06ae224cd40678d91ef19b3ff9db2_720.jpg', 124, 'blob:https://www.idus.com/edd8192f-1f7f-4886-b02f-13fddd80d07f', '안녕하세요.\\n캘리그래피 공방 루시랩을 운영하고 있는 김루시입니다. 🤗']\n"
     ]
    },
    {
     "name": "stdout",
     "output_type": "stream",
     "text": [
      "[125, 8, 125, '한 줄 한 줄 실과 함께 취향을 엮는 위빙 공예', 199000, '180일', '쉬움', '신청 즉시', '구매가능', 0, 0, '3,474', 0, 'https://image.idus.com/image/files/bf696eab1d4c4d648eb4de60c8a09ff7_720.jpg', 125, 'blob:https://www.idus.com/64da7fad-b74b-4427-a732-ae0c0a51d375', '안녕하세요.\\n위빙 공방 하라두의 작가 원하라입니다.\\n\\n🧵위빙을 아시나요?\\n     위빙이란, 가로와 세로로 실이 교차하여\\n     섬유를 짜는 공예입니다.']\n",
      "[126, 2, 126, '반짝반짝 투명한 매력, 누구나 쉽게 배우는 레진공예', 105000, '180일', '쉬움', '신청 즉시', '구매가능', 0, 0, '3,054', 0, 'https://image.idus.com/image/files/4b26df21576b45b990969b5439e7cc49_720.jpg', 126, 'blob:https://www.idus.com/f6f25046-b22e-4653-8bbe-2d4b5ae2c2a8', '안녕하세요👋🏻\\n레진공예 유튜브채널 ‘마니랜드’를\\n운영하고 있는 마니라고 합니다.\\n\\n반짝이고 만드는 것을 좋아하는 분들에게\\n최고의 취미가 되어줄 레진공예를 소개합니다 :)']\n",
      "[127, 24, 127, '자연식물식으로 내 속을 편안하게, 로푸드 레시피', 149000, '180일', '쉬움', '신청 즉시', '구매가능', 0, 0, '1,471', 0, 'https://image.idus.com/image/files/75cce2bc3c434806b9d1fbbcfb8eb77c_720.jpg', 127, 'blob:https://www.idus.com/1962a9bd-8f16-49b7-bedb-08f7bc0498f9', \"안녕하세요! 비건 로푸드(Raw Food) 레시피를 연구·개발하는 리틀엔팬트리입니다.\\n\\n저희는 국내 최초 '배양 발아' 기술로 특허 받은 시리얼을 제조하고 있는데요, 이번 수업을 통해 여러분들에게 '로푸드 레시피'의 모든 노하우를 알려드릴 예정입니다.\"]\n",
      "[128, 14, 128, '빛을 담아 간직하는 유리공예 스테인드 글라스', 179000, '180일', '쉬움', '신청 즉시', '구매가능', 0, 0, '3,037', 0, 'https://image.idus.com/image/files/c993f8f59b36431c830ed980dfd740de_720.jpg', 128, 'blob:https://www.idus.com/3f77fc31-939d-4d92-8a47-b1e11c86dfff', '안녕하세요!\\n스테인드 글라스 기법으로 다양한 소품을 만들고 있는 데코라티프입니다. 🙌']\n",
      "[129, 1, 129, '포근한 감성을 수놓는 프랑스 입체 자수', 89000, '180일', '쉬움', '신청 즉시', '구매가능', 0, 0, '1,892', 0, 'https://image.idus.com/image/files/176394fe2af14a15a99bd9bd936ab04c_720.jpg', 129, 'blob:https://www.idus.com/2b9fc2cd-e66a-4261-85de-52f01497b001', '안녕하세요!\\n실을 통해 포근한 감성을 수놓는 프랑스자수 작가 헬로해피 김민아입니다.\\n아이디어스 금손 클래스로 만나 뵙게 되어 정말 반갑습니다! 🙏']\n",
      "[130, 1, 130, '바늘 끝에서 탄생하는 상상 속 작은 양모 인형 니들펠트', 149000, '180일', '쉬움', '신청 즉시', '구매가능', 0, 0, '1,951', 0, 'https://image.idus.com/image/files/23b8a639db2b454dadad81b4ebe9b7b4_720.jpg', 130, 'blob:https://www.idus.com/a056a02d-8434-4576-9c6d-0dbc3a43bb8e', '안녕하세요.\\n양모펠트 공방 꽁스튜디오를\\n운영하는 박혜경입니다. 🤗\\n\\n이번 온라인 클래스를 통해\\n만나뵙게 되어 반갑습니다 🙌']\n",
      "[131, 22, 131, '나의 손끝으로 직접 표현하는 반지, 은공예 클래스', 109000, '180일', '쉬움', '신청 즉시', '구매가능', 0, 0, '2,141', 0, 'https://image.idus.com/image/files/4199a10b17784537b367f309cd55158f_720.jpg', 131, 'blob:https://www.idus.com/b78d0e07-c09c-4310-af5b-e019d0fddbec', '안녕하세요! \\n금속 공예 작가 김민지입니다. 🙌\\n저의 첫 번째 온라인 클래스를 \\n수강해 주셔서 감사드립니다.\\n\\n\\n다른 금속보다 다루기 쉬운 은점토는 \\n원하는대로 조형이 가능해서 \\n처음 접하시는 분들도 재미있게 즐기실 수 있습니다.']\n",
      "[132, 1, 132, '사랑스런 아이들의 그림으로 만드는 입체인형', 149000, '180일', '쉬움', '신청 즉시', '구매가능', 0, 0, '719', 0, 'https://image.idus.com/image/files/a04c3ba3c66941edadf070d08fd591fd_720.jpg', 132, 'blob:https://www.idus.com/10da2081-c6b6-47c9-b60f-014550dfdad7', '* 수강생에게만 국내 최저가의 부라더미싱 FS50의 구매기회를 드리니 하단 정보를 참고해주세요!']\n",
      "[133, 25, 133, '내 그림을 판화로 찍는 핸드프린팅, 실크스크린 수업', 139000, '180일', '보통', '신청 즉시', '구매가능', 0, 0, '1,399', 0, 'https://image.idus.com/image/files/2b66ad8ecc984c71b615264f93cfcd08_720.jpg', 133, 'blob:https://www.idus.com/b88f2ead-7708-4fc5-a6de-ecadd6f4f422', '실크스크린이라면 앤디 워홀의 마를린 먼로 작업으로 널리 알려졌죠. 홈이 있는 판을 이용해 다양한 재질에 인쇄하는 기법으로 일상 속에 매우 흔히 볼 수 있습니다.']\n",
      "[134, 17, 134, '작은 미니어처들을 모아 집을 짓는 돌하우스 공예', 179000, '180일', '보통', '신청 즉시', '구매가능', 0, 0, '2,322', 0, 'https://image.idus.com/image/files/79e7a85ead7749bfb9451bb0f95d392b_720.jpg', 134, 'blob:https://www.idus.com/2b7a24d6-dae3-4a70-ab3f-8c18c9631377', '안녕하세요.\\n작지만 커다란 이야기를 만드는, 돌하우스 작가 허영지입니다.\\n\\n돌하우스를 아시나요?\\n돌하우스란, 일정한 스케일로 줄여 만든 미니어처들을 모아 작은 집을 짓는 공예입니다🙌']\n",
      "[135, 11, 135, '한땀 한땀 섬세하게 만들어가는 가죽소품 클래스', 169000, '180일', '쉬움', '신청 즉시', '구매가능', 0, 0, '2,420', 0, 'https://image.idus.com/image/files/2819911c6d9f4f6484cb8f98e284e801_720.jpg', 135, 'blob:https://www.idus.com/b66e0d3a-44da-4b33-8fe2-7f29a3208288', \"안녕하세요! 👋\\n가죽 공예 공방 ‘SUNDAYSKA'의 작가 조영호, 조아라입니다. 저희의 첫 번째 온라인 클래스를 수강해 주셔서 감사드립니다.\\n\\n이번 온라인 금손 클래스에서 배우게 될 작품들은 심플하면서 실용적인 아이템들로 구성되어 있지만, 그 안에서 여러 스킬을 배울 수 있고, 클래스가 끝난 뒤에도 응용할 수 있도록 고민하여 구성했습니다.\"]\n"
     ]
    }
   ],
   "source": [
    "import time\n",
    "import re\n",
    "import sys\n",
    "from selenium import webdriver\n",
    "from bs4 import BeautifulSoup\n",
    "import csv\n",
    "from urllib.request import urlopen\n",
    "from selenium.webdriver import ActionChains\n",
    "\n",
    "driver = webdriver.Chrome('C:/Users/KSY/Desktop/chromedriver.exe')\n",
    "driver.get(\"https://www.idus.com/oc\") #tab[0]\n",
    "driver.execute_script('window.open(\"about:blank\", \"_blank\");') #창 1개더 열어놓기 tab[1]\n",
    "tabs = driver.window_handles\n",
    "time.sleep(3)\n",
    "\n",
    "def scroll():\n",
    "    last_height = driver.execute_script(\"return document.body.scrollHeight\")\n",
    "    \n",
    "    while True:\n",
    "        # 끝까지 스크롤 다운\n",
    "        driver.execute_script(\"window.scrollTo(0, document.body.scrollHeight);\")\n",
    "\n",
    "        # 1초 대기\n",
    "        time.sleep(1)\n",
    "\n",
    "        # 스크롤 다운 후 스크롤 높이 다시 가져옴\n",
    "        new_height = driver.execute_script(\"return document.body.scrollHeight\")\n",
    "        if new_height == last_height:\n",
    "            break\n",
    "        last_height = new_height\n",
    "\n",
    "driver.switch_to_window(tabs[0])\n",
    "scroll()\n",
    "html = driver.page_source\n",
    "soup = BeautifulSoup(html, 'lxml')\n",
    "classlist = soup.findAll('li',{'class':'ui_grid__item'}) #모든 클래스 목록\n",
    "\n",
    "\n",
    "data=[] #클래스 data 1개씩\n",
    "# online_class_id , online_class_name, online_class_price, online_class_description, online_class_duration, online_class_level,\n",
    "# online_class_start_date, preparation_flag, online_class_hit, online_class_purchase, online_class_like, online_class_rate,\n",
    "#online_class_image, author_id,online_category_id\n",
    "\n",
    "class_id = 0\n",
    "author_id=0\n",
    "category_id=0\n",
    "category=[]\n",
    "#클래스 한개씩 작업\n",
    "for row in classlist:   \n",
    "    \n",
    "    author_id+=1\n",
    " \n",
    "    #img_URL얻으려고 전처리과정\n",
    "    img = row.find('div',{'class':'thumb-img'})\n",
    "    img = img[\"style\"]\n",
    "    start=img.find('\\\"')\n",
    "    end = img.find('\\\"',start+1)\n",
    "    class_img = img[start+1:end]\n",
    "\n",
    "    #img_URL로 로컬 저장소에 사진 저장\n",
    "    with urlopen(class_img) as f:\n",
    "        class_id +=1\n",
    "        with open('C:/Users/KSY/Desktop/online_class_img/online_class_'+ str(class_id)+ '.jpg',\"wb\") as h:\n",
    "            img=f.read()\n",
    "            h.write(img)\n",
    "        \n",
    "    # 현재 클래스의 상세 페이지 URL\n",
    "    info_URL = row.find({'a':'data-v-27ea337a'})\n",
    "    info_URL = info_URL[\"href\"]\n",
    "    info_URL = \"https://www.idus.com/\" + str(info_URL)\n",
    "\n",
    "    driver.switch_to_window(tabs[1]) #두번째 탭으로 이동\n",
    "    driver.get(info_URL)\n",
    "    html = driver.page_source\n",
    "    soup = BeautifulSoup(html, 'lxml');\n",
    "    \n",
    "    category_name = soup.find('small',{\"class\":\"sticky_aside__small\"}).text\n",
    "    class_name = soup.find('h2',{\"class\":\"sticky_aside__title\"}).text\n",
    "    \n",
    "    if category_name in category:\n",
    "        category_id=category.index(category_name)+1\n",
    "    else:\n",
    "        category.append(category_name)\n",
    "        category_id=len(category)\n",
    "    \n",
    "    class_video = soup.find('video',{\"class\":\"fp-engine\"})\n",
    "    class_video = class_video[\"src\"]\n",
    "    \n",
    "    basic_info = soup.findAll({'dd':'data-v-af0d8610'}) #수강시작일 + 수강기간 + 난이도 + 준비물 다 긁어옴\n",
    "    \n",
    "    start_date = basic_info[0].text\n",
    "    class_duration = basic_info[1].text\n",
    "    class_level = basic_info[2].text\n",
    "    class_preparation = basic_info[3].text\n",
    "    \n",
    "     #총 가격 \n",
    "    class_price = soup.find('p',{'class':'option-text price'}).text\n",
    "    class_price=class_price.replace('원','').replace(',','')\n",
    "    class_price=int(class_price)\n",
    "\n",
    "    ##정보\n",
    "    class_description = soup.find('p',{'class':'article_block__para bot_spacing'}).text\n",
    "    \n",
    "    # 즐겨찾기수\n",
    "    class_like = soup.find('p',{'class':'oc-star-icon-count'}).text.strip()\n",
    "    \n",
    "    ##조회수, 별점,구매수\n",
    "    class_hit=0\n",
    "    class_rate=0\n",
    "    class_purchase=0\n",
    "    \n",
    "    # online_class_id , online_category_id,author_id,online_class_name, online_class_price, online_class_duration, online_class_level,\n",
    "    # online_class_start_date, preparation_flag, online_class_hit, online_class_purchase, online_class_like, online_class_rate,\n",
    "    #online_class_image, class_video, online_class_description\n",
    "    data.append([class_id,category_id,author_id,class_name,class_price,class_duration,class_level,start_date,class_preparation,class_hit,class_purchase,class_like,class_rate,class_img,class_video,class_description])\n",
    "    print([class_id,category_id,author_id,class_name,class_price,class_duration,class_level,start_date,class_preparation,class_hit,class_purchase,class_like,class_rate,class_img,author_id,class_video,class_description])\n",
    "  "
   ]
  },
  {
   "cell_type": "code",
   "execution_count": 35,
   "metadata": {},
   "outputs": [],
   "source": [
    "with open (\"ourdus_online_class.csv\", 'w', encoding='utf-8',newline=\"\") as fileWrite:\n",
    "    myWriter = csv.writer(fileWrite)\n",
    "\n",
    "    myWriter.writerow([\"online_class_id\" , \"online_category_id\",\"author_id\",\"online_class_name\", \"online_class_price\", \n",
    "                       \"online_class_duration\", \"online_class_level\",\"online_class_start_date\", \"preparation_flag\", \n",
    "                       \"online_class_hit\", \"online_class_purchase\", \"online_class_like\", \"online_class_rate\",\n",
    "                       \"online_class_image\",\"class_video\", \"online_class_description\"])\n",
    "    \n",
    "    for one in data:\n",
    "        #Preparation Flag 전처리\n",
    "        if one[8]==\"없음\":\n",
    "            one[8]=False\n",
    "        else:\n",
    "            one[8]=True\n",
    "            \n",
    "        #수강날짜일 전처리\n",
    "        if(type(one[5])!=int):\n",
    "            one[5]=one[5].replace(\"일\",\"\")\n",
    "            one[5]=int(one[5])\n",
    "        if(type(one[11])!=int):\n",
    "            one[11]=one[11].replace(\",\",\"\")\n",
    "            one[11]=int(one[11])\n",
    "\n",
    "        myWriter.writerow(one)"
   ]
  },
  {
   "cell_type": "code",
   "execution_count": 40,
   "metadata": {},
   "outputs": [
    {
     "ename": "AttributeError",
     "evalue": "'str' object has no attribute 'text'",
     "output_type": "error",
     "traceback": [
      "\u001b[1;31m---------------------------------------------------------------------------\u001b[0m",
      "\u001b[1;31mAttributeError\u001b[0m                            Traceback (most recent call last)",
      "\u001b[1;32m<ipython-input-40-acd0e77719e8>\u001b[0m in \u001b[0;36m<module>\u001b[1;34m\u001b[0m\n\u001b[0;32m      5\u001b[0m     \u001b[1;32mfor\u001b[0m \u001b[0mi\u001b[0m \u001b[1;32min\u001b[0m \u001b[0mcategory\u001b[0m\u001b[1;33m:\u001b[0m\u001b[1;33m\u001b[0m\u001b[1;33m\u001b[0m\u001b[0m\n\u001b[0;32m      6\u001b[0m         \u001b[0mcid\u001b[0m\u001b[1;33m+=\u001b[0m\u001b[1;36m1\u001b[0m\u001b[1;33m\u001b[0m\u001b[1;33m\u001b[0m\u001b[0m\n\u001b[1;32m----> 7\u001b[1;33m         \u001b[0mmyWriter\u001b[0m\u001b[1;33m.\u001b[0m\u001b[0mwriterow\u001b[0m\u001b[1;33m(\u001b[0m\u001b[1;33m[\u001b[0m\u001b[0mcid\u001b[0m\u001b[1;33m,\u001b[0m\u001b[0mi\u001b[0m\u001b[1;33m.\u001b[0m\u001b[0mtext\u001b[0m\u001b[1;33m]\u001b[0m\u001b[1;33m)\u001b[0m\u001b[1;33m\u001b[0m\u001b[1;33m\u001b[0m\u001b[0m\n\u001b[0m\u001b[0;32m      8\u001b[0m \u001b[1;33m\u001b[0m\u001b[0m\n\u001b[0;32m      9\u001b[0m \u001b[1;33m\u001b[0m\u001b[0m\n",
      "\u001b[1;31mAttributeError\u001b[0m: 'str' object has no attribute 'text'"
     ]
    }
   ],
   "source": [
    "with open (\"ourdus_online_class_category.csv\", 'w', encoding='utf-8',newline=\"\") as fileWrite:\n",
    "    myWriter = csv.writer(fileWrite)\n",
    "    myWriter.writerow([\"online_category_id\",\"online_category_name\"])\n",
    "    cid=0\n",
    "    for i in category:\n",
    "        cid+=1\n",
    "        myWriter.writerow([cid,i])\n",
    "        \n",
    "        \n",
    "        "
   ]
  },
  {
   "cell_type": "code",
   "execution_count": 37,
   "metadata": {},
   "outputs": [
    {
     "name": "stdout",
     "output_type": "stream",
     "text": [
      "['바느질/재봉', '레진', '디저트/음료', '위빙/마크라메', '색연필/크레용', '유화/아크릴화', '페이퍼아트/포장', '뜨개/코바늘', '뷰티', '펜 드로잉', '가죽', '디지털 드로잉', '플라워/가드닝', '유리', '수채화', '우드/라탄', '점토', '비누', '도자', '캔들/발향', '캘리그래피/서예', '금속', '자개', '쿠킹', '실크스크린/판화']\n"
     ]
    }
   ],
   "source": [
    "print(category)"
   ]
  },
  {
   "cell_type": "code",
   "execution_count": null,
   "metadata": {},
   "outputs": [],
   "source": []
  }
 ],
 "metadata": {
  "kernelspec": {
   "display_name": "Python 3",
   "language": "python",
   "name": "python3"
  },
  "language_info": {
   "codemirror_mode": {
    "name": "ipython",
    "version": 3
   },
   "file_extension": ".py",
   "mimetype": "text/x-python",
   "name": "python",
   "nbconvert_exporter": "python",
   "pygments_lexer": "ipython3",
   "version": "3.8.3"
  }
 },
 "nbformat": 4,
 "nbformat_minor": 4
}

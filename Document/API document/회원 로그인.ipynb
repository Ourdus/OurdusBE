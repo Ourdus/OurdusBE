{
 "cells": [
  {
   "cell_type": "markdown",
   "metadata": {},
   "source": [
    "# API 명세서\n",
    "\n",
    "\n",
    "### 회원 로그인\n",
    "\n",
    "POST /api/user/login\n",
    "\n",
    " Request {{  \n",
    " data:[  \n",
    "{   \n",
    "\n",
    "     “email”:”abc1234\",  \n",
    "    “password”:”1234”,  \n",
    "}]  \n",
    "}  \n",
    "\n",
    "Response{ {  \n",
    "    \"success\": true,  \n",
    "    \"response\": {  \n",
    "    \n",
    "         Header \"jwt-auth-token\" : \"eyJ0eXAiOiJKV1QiLCJhbGciOiJIUzI1NiJ9.eyJzI\"  \n",
    "        \"data\": {  \n",
    "            \n",
    "            \"id\": 14,  \n",
    "            \"email\": \"abc1234\",  \n",
    "            \"name\": \"abc\",    \n",
    "            \"password\": \"1234\",  \n",
    "            \"tel\": \"010-0000-0000\",  \n",
    "            \"regDate\": \"2021-02-07T15:41:41.810657\",  \n",
    "            \"point\": 0,  \n",
    "            \"writerFlag\": false,  \n",
    "            \"addressList\": []  \n",
    "            \n",
    "        },  \n",
    "        \"status\": true  \n",
    "    },  \n",
    "    \"apiError\": null  \n",
    "}  \n",
    "Fail{  \n",
    "\n",
    "    \"success\": false,  \n",
    "    \"response\": \"null\",  \n",
    "    \"apiError\":\"~~~~~~~~\"  \n",
    "}  \n"
   ]
  },
  {
   "cell_type": "code",
   "execution_count": null,
   "metadata": {},
   "outputs": [],
   "source": []
  }
 ],
 "metadata": {
  "kernelspec": {
   "display_name": "Python 3",
   "language": "python",
   "name": "python3"
  },
  "language_info": {
   "codemirror_mode": {
    "name": "ipython",
    "version": 3
   },
   "file_extension": ".py",
   "mimetype": "text/x-python",
   "name": "python",
   "nbconvert_exporter": "python",
   "pygments_lexer": "ipython3",
   "version": "3.8.3"
  }
 },
 "nbformat": 4,
 "nbformat_minor": 4
}

{
 "cells": [
  {
   "cell_type": "markdown",
   "metadata": {},
   "source": [
    "# API 명세서\n",
    "\n",
    "### 특정작품 상세정보 가져오기\n",
    "\n",
    "Get /w/product/{product_id}\n",
    "\n",
    "Response  \n",
    "Success{   \n",
    "\n",
    "    \"success\": true,\n",
    "    \"response\": [\n",
    "        success\": true,\n",
    "    \"response\": {\n",
    "        \"id\": 1,\n",
    "        \"name\": \"product1_by_test0\",\n",
    "        \"price\": 0,\n",
    "        \"rate\": 0,\n",
    "        \"review\": 0,\n",
    "        \"hit\": 0,\n",
    "        \"purchase\": 0,\n",
    "        \"categoryId\": 1,\n",
    "        \"categoryName\": \"음료\",\n",
    "        \"authorId\": 1,\n",
    "        \"authorName\": \"test0\",\n",
    "        \"optionNum\": 0\n",
    "    },\n",
    "    \"apiError\": null\n",
    "} \n",
    "}  \n",
    "Fail{  \n",
    "\n",
    "    \"success\": false,\n",
    "    \"response\": null,\n",
    "    \"apiError\": {\n",
    "        \"message\": \"해당하는 작품 정보가 없습니다\",\n",
    "        \"status\": 404\n",
    "    }\n",
    "}  \n"
   ]
  },
  {
   "cell_type": "code",
   "execution_count": null,
   "metadata": {},
   "outputs": [],
   "source": []
  }
 ],
 "metadata": {
  "kernelspec": {
   "display_name": "Python 3",
   "language": "python",
   "name": "python3"
  },
  "language_info": {
   "codemirror_mode": {
    "name": "ipython",
    "version": 3
   },
   "file_extension": ".py",
   "mimetype": "text/x-python",
   "name": "python",
   "nbconvert_exporter": "python",
   "pygments_lexer": "ipython3",
   "version": "3.8.3"
  }
 },
 "nbformat": 4,
 "nbformat_minor": 4
}

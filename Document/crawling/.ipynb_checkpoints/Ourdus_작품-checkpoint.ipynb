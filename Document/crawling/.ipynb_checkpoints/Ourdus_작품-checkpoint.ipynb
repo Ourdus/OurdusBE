{
 "cells": [
  {
   "cell_type": "code",
   "execution_count": 5,
   "metadata": {},
   "outputs": [
    {
     "name": "stdout",
     "output_type": "stream",
     "text": [
      "Note: you may need to restart the kernel to use updated packages.\n"
     ]
    },
    {
     "name": "stderr",
     "output_type": "stream",
     "text": [
      "ERROR: Could not find a version that satisfies the requirement request (from versions: none)\n",
      "ERROR: No matching distribution found for request\n"
     ]
    }
   ],
   "source": [
    "pip install request"
   ]
  },
  {
   "cell_type": "code",
   "execution_count": 6,
   "metadata": {},
   "outputs": [
    {
     "name": "stdout",
     "output_type": "stream",
     "text": [
      "Requirement already satisfied: beautifulSoup4 in c:\\users\\ksy\\anaconda3\\lib\\site-packages (4.9.1)\n",
      "Requirement already satisfied: soupsieve>1.2 in c:\\users\\ksy\\anaconda3\\lib\\site-packages (from beautifulSoup4) (2.0.1)\n",
      "Note: you may need to restart the kernel to use updated packages.\n"
     ]
    }
   ],
   "source": [
    "pip install beautifulSoup4"
   ]
  },
  {
   "cell_type": "code",
   "execution_count": 7,
   "metadata": {},
   "outputs": [
    {
     "name": "stdout",
     "output_type": "stream",
     "text": [
      "Requirement already satisfied: selenium in c:\\users\\ksy\\anaconda3\\lib\\site-packages (3.141.0)\n",
      "Requirement already satisfied: urllib3 in c:\\users\\ksy\\anaconda3\\lib\\site-packages (from selenium) (1.25.9)\n",
      "Note: you may need to restart the kernel to use updated packages.\n"
     ]
    }
   ],
   "source": [
    "pip install selenium"
   ]
  },
  {
   "cell_type": "code",
   "execution_count": 8,
   "metadata": {},
   "outputs": [
    {
     "name": "stdout",
     "output_type": "stream",
     "text": [
      "Requirement already satisfied: webdriver-manager in c:\\users\\ksy\\anaconda3\\lib\\site-packages (3.2.2)\n",
      "Requirement already satisfied: configparser in c:\\users\\ksy\\anaconda3\\lib\\site-packages (from webdriver-manager) (5.0.1)\n",
      "Requirement already satisfied: crayons in c:\\users\\ksy\\anaconda3\\lib\\site-packages (from webdriver-manager) (0.4.0)\n",
      "Requirement already satisfied: requests in c:\\users\\ksy\\anaconda3\\lib\\site-packages (from webdriver-manager) (2.24.0)\n",
      "Requirement already satisfied: colorama in c:\\users\\ksy\\anaconda3\\lib\\site-packages (from crayons->webdriver-manager) (0.4.3)\n",
      "Requirement already satisfied: certifi>=2017.4.17 in c:\\users\\ksy\\anaconda3\\lib\\site-packages (from requests->webdriver-manager) (2020.6.20)\n",
      "Requirement already satisfied: chardet<4,>=3.0.2 in c:\\users\\ksy\\anaconda3\\lib\\site-packages (from requests->webdriver-manager) (3.0.4)\n",
      "Requirement already satisfied: idna<3,>=2.5 in c:\\users\\ksy\\anaconda3\\lib\\site-packages (from requests->webdriver-manager) (2.10)\n",
      "Requirement already satisfied: urllib3!=1.25.0,!=1.25.1,<1.26,>=1.21.1 in c:\\users\\ksy\\anaconda3\\lib\\site-packages (from requests->webdriver-manager) (1.25.9)\n",
      "Note: you may need to restart the kernel to use updated packages.\n"
     ]
    }
   ],
   "source": [
    "pip install webdriver-manager"
   ]
  },
  {
   "cell_type": "code",
   "execution_count": 27,
   "metadata": {},
   "outputs": [
    {
     "name": "stderr",
     "output_type": "stream",
     "text": [
      "<ipython-input-27-e7256501f127>:38: DeprecationWarning: use driver.switch_to.window instead\n",
      "  driver.switch_to_window(tabs[0])\n",
      "<ipython-input-27-e7256501f127>:59: DeprecationWarning: use driver.switch_to.window instead\n",
      "  driver.switch_to_window(tabs[1]) #두번째 탭으로 이동\n",
      "<ipython-input-27-e7256501f127>:85: DeprecationWarning: use driver.switch_to.window instead\n",
      "  driver.switch_to_window(tabs[2]) #세번째 탭으로 이동\n"
     ]
    },
    {
     "name": "stdout",
     "output_type": "stream",
     "text": [
      "[1, 1, '❤설날선물세트할인 (2/8발송)❤ 딸기청 딸기우유 라떼', 0, 12900, 451, 1443, 18998, 3]\n",
      "[1, 2, ' 설 전 수령 ❤ 포장무료 ❤ 바른 딸기청 ', 0, 12900, 451, 1111, 6233, 3]\n",
      "[1, 3, '[설날선물]🌸5종+1종랜덤증정🌸미니꽃차5종세트🌸', 0, 21250, 743, 571, 10945, 3]\n",
      "[1, 4, '⚡설날전수령⚡발렌타인설날선물더치커피6종선물세트 3+1 ', 0, 10300, 360, 584, 6153, 3]\n",
      "[1, 5, '[⭐주말출고⭐]알록달록💕12종더치커피세트', 0, 17900, 626, 1711, 16641, 3]\n",
      "[1, 6, '주말출고설날선물세트발렌타인(1+1+1)더치커피', 0, 12500, 437, 2172, 9531, 3]\n",
      "[1, 7, '시음공짜❤️고소한 에스프레소 커피 원액 500ml', 0, 11980, 419, 981, 4140, 3]\n",
      "[1, 8, '[⭐주말출고⭐]알록달록💕24종더치커피세트', 0, 35500, 1242, 1366, 17479, 3]\n",
      "[1, 9, '[설날선물]🌸꽃차집게증정+꽃차5종샘플세트🌸', 0, 25000, 875, 53, 578, 3]\n",
      "[1, 10, '[💖설날명절선물세트] 주말출고⚡️ 더치커피선물 🎁', 0, 37000, 1295, 78, 2717, 3]\n",
      "[1, 11, '설날선물 더치커피 콜드브루원액세트', 0, 9900, 346, 1621, 9613, 3]\n",
      "[1, 12, '🔥오늘마감❗설날특가🔥대용량 더치커피 발렌타인 선물', 0, 10500, 367, 2783, 7632, 3]\n",
      "[1, 13, '설날선물세트❤수제청❤설날 선물세트❤답례품❤설날❤', 0, 10000, 350, 444, 5687, 3]\n",
      "[1, 14, '달보드레 수제식혜', 0, 2500, 87, 256, 1925, 3]\n"
     ]
    }
   ],
   "source": [
    "import time\n",
    "import re\n",
    "import sys\n",
    "from selenium import webdriver\n",
    "from bs4 import BeautifulSoup\n",
    "import csv\n",
    "from urllib.request import urlopen\n",
    "from selenium.webdriver import ActionChains\n",
    "\n",
    "driver = webdriver.Chrome('C:/Users/KSY/Desktop/chromedriver.exe')\n",
    "driver.get(\"https://www.idus.com\") #tab[0]\n",
    "driver.execute_script('window.open(\"about:blank\", \"_blank\");') #창 1개더 열어놓기 tab[1]\n",
    "driver.execute_script('window.open(\"about:blank\", \"_blank\");') \n",
    "tabs = driver.window_handles\n",
    "time.sleep(3)\n",
    "\n",
    "def scroll():\n",
    "    last_height = driver.execute_script(\"return document.body.scrollHeight\")\n",
    "    \n",
    "    while True:\n",
    "        # 끝까지 스크롤 다운\n",
    "        driver.execute_script(\"window.scrollTo(0, document.body.scrollHeight);\")\n",
    "\n",
    "        # 1초 대기\n",
    "        time.sleep(1)\n",
    "\n",
    "        # 스크롤 다운 후 스크롤 높이 다시 가져옴\n",
    "        new_height = driver.execute_script(\"return document.body.scrollHeight\")\n",
    "        if new_height == last_height:\n",
    "            break\n",
    "        last_height = new_height\n",
    "\n",
    "img_List=[]\n",
    "writer_List=[]\n",
    "with open (\"ourdus_product.csv\", 'w', encoding='utf-8',newline=\"\") as fileWrite:\n",
    "    myWriter = csv.writer(fileWrite)\n",
    "    time.sleep(3)\n",
    "    driver.switch_to_window(tabs[0])\n",
    "    scroll()\n",
    "    html = driver.page_source\n",
    "    soup = BeautifulSoup(html, 'lxml')\n",
    "    \n",
    "    myWriter.writerow([\"작품아이디\",\"작가아이디\",\"카테고리아이디\",\"작품이름\",'작품가격','작품별점','작품후기수','작품조회수','작품구매수','작품옵션수'])\n",
    "       \n",
    "    category_list =  soup.findAll('div',{'class':'ui_grid__cols--6'}) #모든 카테고리 목록\n",
    "    \n",
    "    cid = 0\n",
    "    pid=0\n",
    "    for i in category_list:\n",
    "        cid+=1\n",
    "        if cid==2:\n",
    "            break\n",
    "        category = i.findAll('div',{'class':'ui_grid__item'})\n",
    "        category_id = cid\n",
    "        category_info = i.find('a',{'class':'area-txt'})\n",
    "        category_name = category_info.text\n",
    "        category_url = \"https://www.idus.com/\" + str(category_info[\"href\"])\n",
    "        \n",
    "        driver.switch_to_window(tabs[1]) #두번째 탭으로 이동\n",
    "        driver.get(category_url)\n",
    "        html = driver.page_source\n",
    "        soup = BeautifulSoup(html, 'lxml')\n",
    "        \n",
    "        class_list = soup.findAll('div',{'class':'ui_grid__item'})\n",
    "        \n",
    "        for j in class_list:\n",
    "            pid+=1\n",
    "            if pid==15: \n",
    "                break\n",
    "            info_url = j.find({'a':'data-v-27ea337a'})\n",
    "            info_url = \"https://www.idus.com/\"+ str(info_url[\"href\"])\n",
    "            img_url = j.find('div',{'class':'product-thumb-img'})\n",
    "            img_url = img_url[\"style\"]\n",
    "            start=img_url.find('\\\"')\n",
    "            end = img_url.find('\\\"',start+1)\n",
    "            img_URL = str(img_url[start+1:end])\n",
    "            img_List.append([img_URL])\n",
    "            \n",
    "            #img_URL로 로컬 저장소에 사진 저장\n",
    "            with urlopen(img_URL) as f:\n",
    "                with open('./Ourdus/product_img/'+ str(pid)+ '.jpg',\"wb\") as h:\n",
    "                    img=f.read()\n",
    "                    h.write(img)\n",
    "            \n",
    "            driver.switch_to_window(tabs[2]) #세번째 탭으로 이동\n",
    "            scroll()\n",
    "            driver.get(info_url)\n",
    "            html = driver.page_source\n",
    "            soup = BeautifulSoup(html, 'lxml')\n",
    "            \n",
    "            writer_name = soup.find('span',{'class':'artist_card__label'}).get_text(strip=True)\n",
    "            writer_name = writer_name.replace(\" \",\"\")\n",
    "            writer_List.append([writer_name])\n",
    "            \n",
    "            product_name = soup.find('h2',{'class':'sticky_aside__produc-title'}).text\n",
    "            \n",
    "            detail_info = soup.find('div',{'class':'product-detail-info'})\n",
    "            \n",
    "            product_price = detail_info.find('strong',{'class':'sold-price'}).text.replace(\",\",\"\")\n",
    "            product_price=int(product_price)\n",
    "            \n",
    "            try:\n",
    "                product_hit = detail_info.find('p',{'class':'star-count-text'}).get_text(strip=True)\n",
    "                product_hit = product_hit.replace(\",\",\"\")\n",
    "                product_hit=int(product_hit)\n",
    "            except:\n",
    "                product_hit=0\n",
    "\n",
    "            try:\n",
    "                product_purchase = detail_info.find('span',{'id':'count_up'}).text\n",
    "                product_purchase = product_purchase.replace(\" \",\"\").replace(\"명\",\"\").replace(\",\",\"\")\n",
    "                product_purchase = int(product_purchase)\n",
    "            except:\n",
    "                product_purchase=0\n",
    "            \n",
    "            try:\n",
    "                point_info = detail_info.find('td',{'class':'data-row__content'})\n",
    "                product_point = point_info.find({'span':'data-v-9e98616a'},{'class':'bold-txt'}).text\n",
    "                product_point = product_point.replace(\" \",\"\").replace(\"최\",\"\").replace(\"대\",\"\").replace(\"P\",\"\").replace(\",\",\"\")\n",
    "                product_point=int(product_point)\n",
    "            except:\n",
    "                product_point=0\n",
    "            \n",
    "            try:\n",
    "                product_rate = detail_info.find('span',{'class':'ui_rating fr'})\n",
    "                product_rate = product_rate[\"data-value\"]\n",
    "            except:\n",
    "                product_rate=0\n",
    "            \n",
    "            try:\n",
    "                product_review = detail_info.find('div',{'style':'margin-left: 3px;'}).text\n",
    "                product_review = product_review.replace(\")\",\"\").replace(\"(\",\"\")\n",
    "                product_review = int(product_review)\n",
    "            except:\n",
    "                product_review=0\n",
    "            \n",
    "#             delivery_info = detail_info.find('td',{'class':'data-row__content'})\n",
    "#             product_delivery = delivery_info.find({'span':'data-v-9e98616a'}).get_text(strip=True)\n",
    "#             product_delivery = product_delivery.replace(\",\",\"\").replace(\"원\",\"\")\n",
    "            \n",
    "            product_description = soup.findAll('p',{'class':'para'})\n",
    "#             \"작품아이디\",\"작가아이디\",\"카테고리아이디\",\"작품이름\",'작품가격','작품별점','작품후기수','작품조회수','작품구매수','작품옵션수'])\n",
    "            save = [pid,0,cid,product_name,0,product_price,product_point,product_review,product_hit,3]\n",
    "            print(save)\n",
    "            myWriter.writerow(save)\n",
    "            \n",
    "\n",
    "\n",
    "driver.close()\n",
    "    \n",
    " "
   ]
  },
  {
   "cell_type": "code",
   "execution_count": 29,
   "metadata": {},
   "outputs": [],
   "source": [
    "with open (\"ourdus_product_image.csv\", 'w', encoding='utf-8',newline=\"\") as fileWrite:\n",
    "    myWriter = csv.writer(fileWrite) \n",
    "    for i in range(len(img_List)):\n",
    "        myWriter.writerow(img_List[i])\n",
    "\n",
    "        \n",
    "with open (\"ourdus_writer.csv\", 'w', encoding='utf-8',newline=\"\") as fileWrite:\n",
    "    myWriter = csv.writer(fileWrite) \n",
    "    for i in range(len(writer_List)):\n",
    "        myWriter.writerow(writer_List[i])"
   ]
  },
  {
   "cell_type": "code",
   "execution_count": null,
   "metadata": {},
   "outputs": [],
   "source": []
  }
 ],
 "metadata": {
  "kernelspec": {
   "display_name": "Python 3",
   "language": "python",
   "name": "python3"
  },
  "language_info": {
   "codemirror_mode": {
    "name": "ipython",
    "version": 3
   },
   "file_extension": ".py",
   "mimetype": "text/x-python",
   "name": "python",
   "nbconvert_exporter": "python",
   "pygments_lexer": "ipython3",
   "version": "3.8.3"
  }
 },
 "nbformat": 4,
 "nbformat_minor": 4
}

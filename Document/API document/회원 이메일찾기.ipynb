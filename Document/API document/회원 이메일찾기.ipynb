{
 "cells": [
  {
   "cell_type": "markdown",
   "metadata": {},
   "source": [
    "# API 명세서\n",
    "\n",
    "\n",
    "### 회원이메일(아이디) 찾기 \n",
    "\n",
    "POST /api/user/id-finding\n",
    "\n",
    " Request {{  \n",
    " \n",
    "\"data\": {    \n",
    "\n",
    "     \"tel\":\"01012345678\"\n",
    "}\n",
    "}]  \n",
    "}  \n",
    "\n",
    "Response{ {  \n",
    " \n",
    "    \"success\": true,\n",
    "    \"response\": \"test1@gmail.com\",\n",
    "    \"apiError\": null\n",
    "}  \n",
    "Fail{  \n",
    "\n",
    "    \"success\": false,\n",
    "    \"response\": null,\n",
    "    \"apiError\": {\n",
    "        \"message\": \"No value present\",\n",
    "        \"status\": 404\n",
    "    }\n",
    "}  \n"
   ]
  },
  {
   "cell_type": "code",
   "execution_count": null,
   "metadata": {},
   "outputs": [],
   "source": []
  }
 ],
 "metadata": {
  "kernelspec": {
   "display_name": "Python 3",
   "language": "python",
   "name": "python3"
  },
  "language_info": {
   "codemirror_mode": {
    "name": "ipython",
    "version": 3
   },
   "file_extension": ".py",
   "mimetype": "text/x-python",
   "name": "python",
   "nbconvert_exporter": "python",
   "pygments_lexer": "ipython3",
   "version": "3.8.3"
  }
 },
 "nbformat": 4,
 "nbformat_minor": 4
}
